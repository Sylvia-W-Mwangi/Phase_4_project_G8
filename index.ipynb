{
 "cells": [
  {
   "cell_type": "markdown",
   "id": "0bb3cb72",
   "metadata": {},
   "source": [
    "### **NATURAL LANGUAGE PROCESSING OF TWITTER DATA FOR SENTIMENT CLASSIFICATION**"
   ]
  },
  {
   "cell_type": "markdown",
   "id": "5d35c550",
   "metadata": {},
   "source": [
    "#### **BUSINESS UNDERSTANDING**\n",
    "\n",
    "In today's world, businesses need to truly grasp customer perceptions and swiftly adapt to market shifts. Social media, especially platforms like Twitter, offers a powerful way to monitor and analyze what users are saying about various products, providing critical insights into their sentiments.\n",
    "\n",
    "#### **OBJECTIVES**\n",
    "* Analyze the sentiments of a tweet and be able to classify it as either a positive emotion, negative emotion and neutral emotion\n",
    "* Build a binary text classifier to distinguish between positive and negative emotions\n",
    "* Build multiclass classifier and compare model performances of the classifiers\n",
    "* Improve performances of minority classes"
   ]
  },
  {
   "cell_type": "code",
   "execution_count": 1,
   "id": "50ebc203",
   "metadata": {},
   "outputs": [],
   "source": [
    "# importing necessary libraries\n",
    "import pandas as pd\n",
    "import numpy as np\n",
    "import matplotlib.pyplot as plt\n",
    "from matplotlib.ticker import MaxNLocator\n",
    "import seaborn as sns\n",
    "import nltk\n",
    "import string, re\n",
    "\n",
    "from collections import Counter\n",
    "\n",
    "from sklearn.model_selection import train_test_split, GridSearchCV\n",
    "from sklearn.preprocessing import StandardScaler, FunctionTransformer, LabelEncoder\n",
    "from sklearn.feature_extraction.text import TfidfVectorizer, CountVectorizer\n",
    "from sklearn.linear_model import LogisticRegression\n",
    "from sklearn.naive_bayes import MultinomialNB\n",
    "from sklearn.svm import SVC \n",
    "from sklearn.neighbors import KNeighborsClassifier\n",
    "from sklearn.metrics import classification_report\n",
    "from sklearn.pipeline import Pipeline\n",
    "from imblearn.over_sampling import SMOTE, RandomOverSampler\n",
    "from imblearn.pipeline import Pipeline as ImbPipeline\n",
    "from sklearn.neural_network import MLPClassifier\n",
    "\n",
    "from nltk.corpus import stopwords\n",
    "from nltk.collocations import *\n",
    "from nltk import FreqDist\n",
    "from nltk.tokenize import word_tokenize\n",
    "from nltk.stem import PorterStemmer\n",
    "from nltk.tokenize import TweetTokenizer\n"
   ]
  },
  {
   "cell_type": "markdown",
   "id": "c35f3996",
   "metadata": {},
   "source": [
    "#### **LOADING THE DATA**"
   ]
  },
  {
   "cell_type": "code",
   "execution_count": 2,
   "id": "64ec25f0",
   "metadata": {},
   "outputs": [
    {
     "data": {
      "text/html": [
       "<div>\n",
       "<style scoped>\n",
       "    .dataframe tbody tr th:only-of-type {\n",
       "        vertical-align: middle;\n",
       "    }\n",
       "\n",
       "    .dataframe tbody tr th {\n",
       "        vertical-align: top;\n",
       "    }\n",
       "\n",
       "    .dataframe thead th {\n",
       "        text-align: right;\n",
       "    }\n",
       "</style>\n",
       "<table border=\"1\" class=\"dataframe\">\n",
       "  <thead>\n",
       "    <tr style=\"text-align: right;\">\n",
       "      <th></th>\n",
       "      <th>tweet_text</th>\n",
       "      <th>emotion_in_tweet_is_directed_at</th>\n",
       "      <th>is_there_an_emotion_directed_at_a_brand_or_product</th>\n",
       "    </tr>\n",
       "  </thead>\n",
       "  <tbody>\n",
       "    <tr>\n",
       "      <th>0</th>\n",
       "      <td>.@wesley83 I have a 3G iPhone. After 3 hrs twe...</td>\n",
       "      <td>iPhone</td>\n",
       "      <td>Negative emotion</td>\n",
       "    </tr>\n",
       "    <tr>\n",
       "      <th>1</th>\n",
       "      <td>@jessedee Know about @fludapp ? Awesome iPad/i...</td>\n",
       "      <td>iPad or iPhone App</td>\n",
       "      <td>Positive emotion</td>\n",
       "    </tr>\n",
       "    <tr>\n",
       "      <th>2</th>\n",
       "      <td>@swonderlin Can not wait for #iPad 2 also. The...</td>\n",
       "      <td>iPad</td>\n",
       "      <td>Positive emotion</td>\n",
       "    </tr>\n",
       "    <tr>\n",
       "      <th>3</th>\n",
       "      <td>@sxsw I hope this year's festival isn't as cra...</td>\n",
       "      <td>iPad or iPhone App</td>\n",
       "      <td>Negative emotion</td>\n",
       "    </tr>\n",
       "    <tr>\n",
       "      <th>4</th>\n",
       "      <td>@sxtxstate great stuff on Fri #SXSW: Marissa M...</td>\n",
       "      <td>Google</td>\n",
       "      <td>Positive emotion</td>\n",
       "    </tr>\n",
       "  </tbody>\n",
       "</table>\n",
       "</div>"
      ],
      "text/plain": [
       "                                          tweet_text  \\\n",
       "0  .@wesley83 I have a 3G iPhone. After 3 hrs twe...   \n",
       "1  @jessedee Know about @fludapp ? Awesome iPad/i...   \n",
       "2  @swonderlin Can not wait for #iPad 2 also. The...   \n",
       "3  @sxsw I hope this year's festival isn't as cra...   \n",
       "4  @sxtxstate great stuff on Fri #SXSW: Marissa M...   \n",
       "\n",
       "  emotion_in_tweet_is_directed_at  \\\n",
       "0                          iPhone   \n",
       "1              iPad or iPhone App   \n",
       "2                            iPad   \n",
       "3              iPad or iPhone App   \n",
       "4                          Google   \n",
       "\n",
       "  is_there_an_emotion_directed_at_a_brand_or_product  \n",
       "0                                   Negative emotion  \n",
       "1                                   Positive emotion  \n",
       "2                                   Positive emotion  \n",
       "3                                   Negative emotion  \n",
       "4                                   Positive emotion  "
      ]
     },
     "execution_count": 2,
     "metadata": {},
     "output_type": "execute_result"
    }
   ],
   "source": [
    "#load data\n",
    "df = pd.read_csv(r'crowdflower-brands-and-product-emotions\\data\\judge_1377884607_tweet_product_company.csv')\n",
    "\n",
    "df.head()"
   ]
  },
  {
   "cell_type": "markdown",
   "id": "9c355038",
   "metadata": {},
   "source": [
    "#### **DATASET UNDERSTANDING**"
   ]
  },
  {
   "cell_type": "code",
   "execution_count": 3,
   "id": "363cb177",
   "metadata": {},
   "outputs": [
    {
     "name": "stdout",
     "output_type": "stream",
     "text": [
      "<class 'pandas.core.frame.DataFrame'>\n",
      "RangeIndex: 8721 entries, 0 to 8720\n",
      "Data columns (total 3 columns):\n",
      " #   Column                                              Non-Null Count  Dtype \n",
      "---  ------                                              --------------  ----- \n",
      " 0   tweet_text                                          8720 non-null   object\n",
      " 1   emotion_in_tweet_is_directed_at                     3169 non-null   object\n",
      " 2   is_there_an_emotion_directed_at_a_brand_or_product  8721 non-null   object\n",
      "dtypes: object(3)\n",
      "memory usage: 204.5+ KB\n"
     ]
    }
   ],
   "source": [
    "# dataset information\n",
    "df.info()"
   ]
  },
  {
   "cell_type": "code",
   "execution_count": 4,
   "id": "c5b56b30",
   "metadata": {},
   "outputs": [
    {
     "data": {
      "text/html": [
       "<div>\n",
       "<style scoped>\n",
       "    .dataframe tbody tr th:only-of-type {\n",
       "        vertical-align: middle;\n",
       "    }\n",
       "\n",
       "    .dataframe tbody tr th {\n",
       "        vertical-align: top;\n",
       "    }\n",
       "\n",
       "    .dataframe thead th {\n",
       "        text-align: right;\n",
       "    }\n",
       "</style>\n",
       "<table border=\"1\" class=\"dataframe\">\n",
       "  <thead>\n",
       "    <tr style=\"text-align: right;\">\n",
       "      <th></th>\n",
       "      <th>tweet_text</th>\n",
       "      <th>emotion_in_tweet_is_directed_at</th>\n",
       "      <th>is_there_an_emotion_directed_at_a_brand_or_product</th>\n",
       "    </tr>\n",
       "  </thead>\n",
       "  <tbody>\n",
       "    <tr>\n",
       "      <th>count</th>\n",
       "      <td>8720</td>\n",
       "      <td>3169</td>\n",
       "      <td>8721</td>\n",
       "    </tr>\n",
       "    <tr>\n",
       "      <th>unique</th>\n",
       "      <td>8693</td>\n",
       "      <td>9</td>\n",
       "      <td>4</td>\n",
       "    </tr>\n",
       "    <tr>\n",
       "      <th>top</th>\n",
       "      <td>RT @mention Marissa Mayer: Google Will Connect...</td>\n",
       "      <td>iPad</td>\n",
       "      <td>No emotion toward brand or product</td>\n",
       "    </tr>\n",
       "    <tr>\n",
       "      <th>freq</th>\n",
       "      <td>5</td>\n",
       "      <td>910</td>\n",
       "      <td>5156</td>\n",
       "    </tr>\n",
       "  </tbody>\n",
       "</table>\n",
       "</div>"
      ],
      "text/plain": [
       "                                               tweet_text  \\\n",
       "count                                                8720   \n",
       "unique                                               8693   \n",
       "top     RT @mention Marissa Mayer: Google Will Connect...   \n",
       "freq                                                    5   \n",
       "\n",
       "       emotion_in_tweet_is_directed_at  \\\n",
       "count                             3169   \n",
       "unique                               9   \n",
       "top                               iPad   \n",
       "freq                               910   \n",
       "\n",
       "       is_there_an_emotion_directed_at_a_brand_or_product  \n",
       "count                                                8721  \n",
       "unique                                                  4  \n",
       "top                    No emotion toward brand or product  \n",
       "freq                                                 5156  "
      ]
     },
     "execution_count": 4,
     "metadata": {},
     "output_type": "execute_result"
    }
   ],
   "source": [
    "df.describe()"
   ]
  },
  {
   "cell_type": "markdown",
   "id": "2e104753",
   "metadata": {},
   "source": [
    "### **DATA CLEANING AND FEATURE ENGINEERING**"
   ]
  },
  {
   "cell_type": "code",
   "execution_count": 5,
   "id": "222b734e",
   "metadata": {},
   "outputs": [
    {
     "data": {
      "text/plain": [
       "np.True_"
      ]
     },
     "execution_count": 5,
     "metadata": {},
     "output_type": "execute_result"
    }
   ],
   "source": [
    "df.duplicated().any()"
   ]
  },
  {
   "cell_type": "code",
   "execution_count": 6,
   "id": "1274b154",
   "metadata": {},
   "outputs": [
    {
     "data": {
      "text/plain": [
       "np.int64(22)"
      ]
     },
     "execution_count": 6,
     "metadata": {},
     "output_type": "execute_result"
    }
   ],
   "source": [
    "df.duplicated().sum()"
   ]
  },
  {
   "cell_type": "code",
   "execution_count": 7,
   "id": "e0b5a372",
   "metadata": {},
   "outputs": [
    {
     "data": {
      "text/html": [
       "<div>\n",
       "<style scoped>\n",
       "    .dataframe tbody tr th:only-of-type {\n",
       "        vertical-align: middle;\n",
       "    }\n",
       "\n",
       "    .dataframe tbody tr th {\n",
       "        vertical-align: top;\n",
       "    }\n",
       "\n",
       "    .dataframe thead th {\n",
       "        text-align: right;\n",
       "    }\n",
       "</style>\n",
       "<table border=\"1\" class=\"dataframe\">\n",
       "  <thead>\n",
       "    <tr style=\"text-align: right;\">\n",
       "      <th></th>\n",
       "      <th>tweet_text</th>\n",
       "      <th>emotion_in_tweet_is_directed_at</th>\n",
       "      <th>is_there_an_emotion_directed_at_a_brand_or_product</th>\n",
       "    </tr>\n",
       "  </thead>\n",
       "  <tbody>\n",
       "    <tr>\n",
       "      <th>457</th>\n",
       "      <td>Before It Even Begins, Apple Wins #SXSW {link}</td>\n",
       "      <td>Apple</td>\n",
       "      <td>Positive emotion</td>\n",
       "    </tr>\n",
       "    <tr>\n",
       "      <th>752</th>\n",
       "      <td>Google to Launch Major New Social Network Call...</td>\n",
       "      <td>NaN</td>\n",
       "      <td>No emotion toward brand or product</td>\n",
       "    </tr>\n",
       "    <tr>\n",
       "      <th>2138</th>\n",
       "      <td>Marissa Mayer: Google Will Connect the Digital...</td>\n",
       "      <td>NaN</td>\n",
       "      <td>No emotion toward brand or product</td>\n",
       "    </tr>\n",
       "    <tr>\n",
       "      <th>2437</th>\n",
       "      <td>Counting down the days to #sxsw plus strong Ca...</td>\n",
       "      <td>Apple</td>\n",
       "      <td>Positive emotion</td>\n",
       "    </tr>\n",
       "    <tr>\n",
       "      <th>3759</th>\n",
       "      <td>Really enjoying the changes in Gowalla 3.0 for...</td>\n",
       "      <td>Android App</td>\n",
       "      <td>Positive emotion</td>\n",
       "    </tr>\n",
       "    <tr>\n",
       "      <th>3771</th>\n",
       "      <td>#SXSW is just starting, #CTIA is around the co...</td>\n",
       "      <td>Android</td>\n",
       "      <td>Positive emotion</td>\n",
       "    </tr>\n",
       "    <tr>\n",
       "      <th>4669</th>\n",
       "      <td>Oh. My. God. The #SXSW app for iPad is pure, u...</td>\n",
       "      <td>iPad or iPhone App</td>\n",
       "      <td>Positive emotion</td>\n",
       "    </tr>\n",
       "    <tr>\n",
       "      <th>5107</th>\n",
       "      <td>RT @mention ��� GO BEYOND BORDERS! ��_ {link} ...</td>\n",
       "      <td>NaN</td>\n",
       "      <td>No emotion toward brand or product</td>\n",
       "    </tr>\n",
       "    <tr>\n",
       "      <th>5110</th>\n",
       "      <td>RT @mention ��� Happy Woman's Day! Make love, ...</td>\n",
       "      <td>NaN</td>\n",
       "      <td>No emotion toward brand or product</td>\n",
       "    </tr>\n",
       "    <tr>\n",
       "      <th>5650</th>\n",
       "      <td>RT @mention Google to Launch Major New Social ...</td>\n",
       "      <td>NaN</td>\n",
       "      <td>No emotion toward brand or product</td>\n",
       "    </tr>\n",
       "    <tr>\n",
       "      <th>5651</th>\n",
       "      <td>RT @mention Google to Launch Major New Social ...</td>\n",
       "      <td>NaN</td>\n",
       "      <td>No emotion toward brand or product</td>\n",
       "    </tr>\n",
       "    <tr>\n",
       "      <th>5652</th>\n",
       "      <td>RT @mention Google to Launch Major New Social ...</td>\n",
       "      <td>NaN</td>\n",
       "      <td>No emotion toward brand or product</td>\n",
       "    </tr>\n",
       "    <tr>\n",
       "      <th>5653</th>\n",
       "      <td>RT @mention Google to Launch Major New Social ...</td>\n",
       "      <td>NaN</td>\n",
       "      <td>No emotion toward brand or product</td>\n",
       "    </tr>\n",
       "    <tr>\n",
       "      <th>5654</th>\n",
       "      <td>RT @mention Google to Launch Major New Social ...</td>\n",
       "      <td>NaN</td>\n",
       "      <td>No emotion toward brand or product</td>\n",
       "    </tr>\n",
       "    <tr>\n",
       "      <th>6065</th>\n",
       "      <td>RT @mention Marissa Mayer: Google Will Connect...</td>\n",
       "      <td>Google</td>\n",
       "      <td>Positive emotion</td>\n",
       "    </tr>\n",
       "    <tr>\n",
       "      <th>6066</th>\n",
       "      <td>RT @mention Marissa Mayer: Google Will Connect...</td>\n",
       "      <td>NaN</td>\n",
       "      <td>No emotion toward brand or product</td>\n",
       "    </tr>\n",
       "    <tr>\n",
       "      <th>6067</th>\n",
       "      <td>RT @mention Marissa Mayer: Google Will Connect...</td>\n",
       "      <td>Google</td>\n",
       "      <td>Positive emotion</td>\n",
       "    </tr>\n",
       "    <tr>\n",
       "      <th>6068</th>\n",
       "      <td>RT @mention Marissa Mayer: Google Will Connect...</td>\n",
       "      <td>NaN</td>\n",
       "      <td>No emotion toward brand or product</td>\n",
       "    </tr>\n",
       "    <tr>\n",
       "      <th>6069</th>\n",
       "      <td>RT @mention Marissa Mayer: Google Will Connect...</td>\n",
       "      <td>NaN</td>\n",
       "      <td>No emotion toward brand or product</td>\n",
       "    </tr>\n",
       "    <tr>\n",
       "      <th>6315</th>\n",
       "      <td>RT @mention RT @mention Google to Launch Major...</td>\n",
       "      <td>NaN</td>\n",
       "      <td>No emotion toward brand or product</td>\n",
       "    </tr>\n",
       "    <tr>\n",
       "      <th>8146</th>\n",
       "      <td>I just noticed DST is coming this weekend. How...</td>\n",
       "      <td>iPhone</td>\n",
       "      <td>Negative emotion</td>\n",
       "    </tr>\n",
       "    <tr>\n",
       "      <th>8394</th>\n",
       "      <td>Need to buy an iPad2 while I'm in Austin at #s...</td>\n",
       "      <td>iPad</td>\n",
       "      <td>Positive emotion</td>\n",
       "    </tr>\n",
       "  </tbody>\n",
       "</table>\n",
       "</div>"
      ],
      "text/plain": [
       "                                             tweet_text  \\\n",
       "457      Before It Even Begins, Apple Wins #SXSW {link}   \n",
       "752   Google to Launch Major New Social Network Call...   \n",
       "2138  Marissa Mayer: Google Will Connect the Digital...   \n",
       "2437  Counting down the days to #sxsw plus strong Ca...   \n",
       "3759  Really enjoying the changes in Gowalla 3.0 for...   \n",
       "3771  #SXSW is just starting, #CTIA is around the co...   \n",
       "4669  Oh. My. God. The #SXSW app for iPad is pure, u...   \n",
       "5107  RT @mention ��� GO BEYOND BORDERS! ��_ {link} ...   \n",
       "5110  RT @mention ��� Happy Woman's Day! Make love, ...   \n",
       "5650  RT @mention Google to Launch Major New Social ...   \n",
       "5651  RT @mention Google to Launch Major New Social ...   \n",
       "5652  RT @mention Google to Launch Major New Social ...   \n",
       "5653  RT @mention Google to Launch Major New Social ...   \n",
       "5654  RT @mention Google to Launch Major New Social ...   \n",
       "6065  RT @mention Marissa Mayer: Google Will Connect...   \n",
       "6066  RT @mention Marissa Mayer: Google Will Connect...   \n",
       "6067  RT @mention Marissa Mayer: Google Will Connect...   \n",
       "6068  RT @mention Marissa Mayer: Google Will Connect...   \n",
       "6069  RT @mention Marissa Mayer: Google Will Connect...   \n",
       "6315  RT @mention RT @mention Google to Launch Major...   \n",
       "8146  I just noticed DST is coming this weekend. How...   \n",
       "8394  Need to buy an iPad2 while I'm in Austin at #s...   \n",
       "\n",
       "     emotion_in_tweet_is_directed_at  \\\n",
       "457                            Apple   \n",
       "752                              NaN   \n",
       "2138                             NaN   \n",
       "2437                           Apple   \n",
       "3759                     Android App   \n",
       "3771                         Android   \n",
       "4669              iPad or iPhone App   \n",
       "5107                             NaN   \n",
       "5110                             NaN   \n",
       "5650                             NaN   \n",
       "5651                             NaN   \n",
       "5652                             NaN   \n",
       "5653                             NaN   \n",
       "5654                             NaN   \n",
       "6065                          Google   \n",
       "6066                             NaN   \n",
       "6067                          Google   \n",
       "6068                             NaN   \n",
       "6069                             NaN   \n",
       "6315                             NaN   \n",
       "8146                          iPhone   \n",
       "8394                            iPad   \n",
       "\n",
       "     is_there_an_emotion_directed_at_a_brand_or_product  \n",
       "457                                    Positive emotion  \n",
       "752                  No emotion toward brand or product  \n",
       "2138                 No emotion toward brand or product  \n",
       "2437                                   Positive emotion  \n",
       "3759                                   Positive emotion  \n",
       "3771                                   Positive emotion  \n",
       "4669                                   Positive emotion  \n",
       "5107                 No emotion toward brand or product  \n",
       "5110                 No emotion toward brand or product  \n",
       "5650                 No emotion toward brand or product  \n",
       "5651                 No emotion toward brand or product  \n",
       "5652                 No emotion toward brand or product  \n",
       "5653                 No emotion toward brand or product  \n",
       "5654                 No emotion toward brand or product  \n",
       "6065                                   Positive emotion  \n",
       "6066                 No emotion toward brand or product  \n",
       "6067                                   Positive emotion  \n",
       "6068                 No emotion toward brand or product  \n",
       "6069                 No emotion toward brand or product  \n",
       "6315                 No emotion toward brand or product  \n",
       "8146                                   Negative emotion  \n",
       "8394                                   Positive emotion  "
      ]
     },
     "execution_count": 7,
     "metadata": {},
     "output_type": "execute_result"
    }
   ],
   "source": [
    "# check for the duplicated rows\n",
    "df[df.duplicated()]"
   ]
  },
  {
   "cell_type": "code",
   "execution_count": 8,
   "id": "4f339c6f",
   "metadata": {},
   "outputs": [
    {
     "data": {
      "text/plain": [
       "tweet_text                                               1\n",
       "emotion_in_tweet_is_directed_at                       5552\n",
       "is_there_an_emotion_directed_at_a_brand_or_product       0\n",
       "dtype: int64"
      ]
     },
     "execution_count": 8,
     "metadata": {},
     "output_type": "execute_result"
    }
   ],
   "source": [
    "# check for missing values\n",
    "df.isnull().sum()"
   ]
  },
  {
   "cell_type": "code",
   "execution_count": 9,
   "id": "a897e4e3",
   "metadata": {},
   "outputs": [
    {
     "data": {
      "text/plain": [
       "8721"
      ]
     },
     "execution_count": 9,
     "metadata": {},
     "output_type": "execute_result"
    }
   ],
   "source": [
    "# check length of dataset\n",
    "len(df)"
   ]
  },
  {
   "cell_type": "code",
   "execution_count": 10,
   "id": "26971fbc",
   "metadata": {},
   "outputs": [
    {
     "data": {
      "text/html": [
       "<div>\n",
       "<style scoped>\n",
       "    .dataframe tbody tr th:only-of-type {\n",
       "        vertical-align: middle;\n",
       "    }\n",
       "\n",
       "    .dataframe tbody tr th {\n",
       "        vertical-align: top;\n",
       "    }\n",
       "\n",
       "    .dataframe thead th {\n",
       "        text-align: right;\n",
       "    }\n",
       "</style>\n",
       "<table border=\"1\" class=\"dataframe\">\n",
       "  <thead>\n",
       "    <tr style=\"text-align: right;\">\n",
       "      <th></th>\n",
       "      <th>tweet_text</th>\n",
       "      <th>emotion_in_tweet_is_directed_at</th>\n",
       "      <th>is_there_an_emotion_directed_at_a_brand_or_product</th>\n",
       "    </tr>\n",
       "  </thead>\n",
       "  <tbody>\n",
       "    <tr>\n",
       "      <th>0</th>\n",
       "      <td>.@wesley83 I have a 3G iPhone. After 3 hrs twe...</td>\n",
       "      <td>iPhone</td>\n",
       "      <td>Negative emotion</td>\n",
       "    </tr>\n",
       "    <tr>\n",
       "      <th>1</th>\n",
       "      <td>@jessedee Know about @fludapp ? Awesome iPad/i...</td>\n",
       "      <td>iPad or iPhone App</td>\n",
       "      <td>Positive emotion</td>\n",
       "    </tr>\n",
       "    <tr>\n",
       "      <th>2</th>\n",
       "      <td>@swonderlin Can not wait for #iPad 2 also. The...</td>\n",
       "      <td>iPad</td>\n",
       "      <td>Positive emotion</td>\n",
       "    </tr>\n",
       "    <tr>\n",
       "      <th>3</th>\n",
       "      <td>@sxsw I hope this year's festival isn't as cra...</td>\n",
       "      <td>iPad or iPhone App</td>\n",
       "      <td>Negative emotion</td>\n",
       "    </tr>\n",
       "    <tr>\n",
       "      <th>4</th>\n",
       "      <td>@sxtxstate great stuff on Fri #SXSW: Marissa M...</td>\n",
       "      <td>Google</td>\n",
       "      <td>Positive emotion</td>\n",
       "    </tr>\n",
       "  </tbody>\n",
       "</table>\n",
       "</div>"
      ],
      "text/plain": [
       "                                          tweet_text  \\\n",
       "0  .@wesley83 I have a 3G iPhone. After 3 hrs twe...   \n",
       "1  @jessedee Know about @fludapp ? Awesome iPad/i...   \n",
       "2  @swonderlin Can not wait for #iPad 2 also. The...   \n",
       "3  @sxsw I hope this year's festival isn't as cra...   \n",
       "4  @sxtxstate great stuff on Fri #SXSW: Marissa M...   \n",
       "\n",
       "  emotion_in_tweet_is_directed_at  \\\n",
       "0                          iPhone   \n",
       "1              iPad or iPhone App   \n",
       "2                            iPad   \n",
       "3              iPad or iPhone App   \n",
       "4                          Google   \n",
       "\n",
       "  is_there_an_emotion_directed_at_a_brand_or_product  \n",
       "0                                   Negative emotion  \n",
       "1                                   Positive emotion  \n",
       "2                                   Positive emotion  \n",
       "3                                   Negative emotion  \n",
       "4                                   Positive emotion  "
      ]
     },
     "execution_count": 10,
     "metadata": {},
     "output_type": "execute_result"
    }
   ],
   "source": [
    "# Filling the missing values with \"Unknown\"\n",
    "df_brand = df.copy() # Create a copy of the original DataFrame\n",
    "df_brand['emotion_in_tweet_is_directed_at'] = df_brand['emotion_in_tweet_is_directed_at'].fillna('Unknown Product') \n",
    "df_brand.head()"
   ]
  },
  {
   "cell_type": "code",
   "execution_count": 11,
   "id": "8ca855d3",
   "metadata": {},
   "outputs": [
    {
     "data": {
      "text/plain": [
       "is_there_an_emotion_directed_at_a_brand_or_product\n",
       "No emotion toward brand or product    5156\n",
       "Positive emotion                      2869\n",
       "Negative emotion                       545\n",
       "I can't tell                           151\n",
       "Name: count, dtype: int64"
      ]
     },
     "execution_count": 11,
     "metadata": {},
     "output_type": "execute_result"
    }
   ],
   "source": [
    "df['is_there_an_emotion_directed_at_a_brand_or_product'].value_counts()"
   ]
  },
  {
   "cell_type": "code",
   "execution_count": 12,
   "id": "957bd636",
   "metadata": {},
   "outputs": [
    {
     "data": {
      "text/html": [
       "<div>\n",
       "<style scoped>\n",
       "    .dataframe tbody tr th:only-of-type {\n",
       "        vertical-align: middle;\n",
       "    }\n",
       "\n",
       "    .dataframe tbody tr th {\n",
       "        vertical-align: top;\n",
       "    }\n",
       "\n",
       "    .dataframe thead th {\n",
       "        text-align: right;\n",
       "    }\n",
       "</style>\n",
       "<table border=\"1\" class=\"dataframe\">\n",
       "  <thead>\n",
       "    <tr style=\"text-align: right;\">\n",
       "      <th></th>\n",
       "      <th>tweet_text</th>\n",
       "      <th>is_there_an_emotion_directed_at_a_brand_or_product</th>\n",
       "    </tr>\n",
       "  </thead>\n",
       "  <tbody>\n",
       "    <tr>\n",
       "      <th>0</th>\n",
       "      <td>.@wesley83 I have a 3G iPhone. After 3 hrs twe...</td>\n",
       "      <td>Negative emotion</td>\n",
       "    </tr>\n",
       "    <tr>\n",
       "      <th>1</th>\n",
       "      <td>@jessedee Know about @fludapp ? Awesome iPad/i...</td>\n",
       "      <td>Positive emotion</td>\n",
       "    </tr>\n",
       "    <tr>\n",
       "      <th>2</th>\n",
       "      <td>@swonderlin Can not wait for #iPad 2 also. The...</td>\n",
       "      <td>Positive emotion</td>\n",
       "    </tr>\n",
       "    <tr>\n",
       "      <th>3</th>\n",
       "      <td>@sxsw I hope this year's festival isn't as cra...</td>\n",
       "      <td>Negative emotion</td>\n",
       "    </tr>\n",
       "    <tr>\n",
       "      <th>4</th>\n",
       "      <td>@sxtxstate great stuff on Fri #SXSW: Marissa M...</td>\n",
       "      <td>Positive emotion</td>\n",
       "    </tr>\n",
       "  </tbody>\n",
       "</table>\n",
       "</div>"
      ],
      "text/plain": [
       "                                          tweet_text  \\\n",
       "0  .@wesley83 I have a 3G iPhone. After 3 hrs twe...   \n",
       "1  @jessedee Know about @fludapp ? Awesome iPad/i...   \n",
       "2  @swonderlin Can not wait for #iPad 2 also. The...   \n",
       "3  @sxsw I hope this year's festival isn't as cra...   \n",
       "4  @sxtxstate great stuff on Fri #SXSW: Marissa M...   \n",
       "\n",
       "  is_there_an_emotion_directed_at_a_brand_or_product  \n",
       "0                                   Negative emotion  \n",
       "1                                   Positive emotion  \n",
       "2                                   Positive emotion  \n",
       "3                                   Negative emotion  \n",
       "4                                   Positive emotion  "
      ]
     },
     "execution_count": 12,
     "metadata": {},
     "output_type": "execute_result"
    }
   ],
   "source": [
    "# select relevant columns\n",
    "df = df[['tweet_text', 'is_there_an_emotion_directed_at_a_brand_or_product']]\n",
    "df.head()"
   ]
  },
  {
   "cell_type": "code",
   "execution_count": 13,
   "id": "3fca3232",
   "metadata": {},
   "outputs": [
    {
     "data": {
      "text/plain": [
       "tweet_text                                            0\n",
       "is_there_an_emotion_directed_at_a_brand_or_product    0\n",
       "dtype: int64"
      ]
     },
     "execution_count": 13,
     "metadata": {},
     "output_type": "execute_result"
    }
   ],
   "source": [
    "# drop missing value in the tweet_text column\n",
    "df = df.dropna(subset=['tweet_text'])\n",
    "df.isnull().sum()"
   ]
  },
  {
   "cell_type": "code",
   "execution_count": 14,
   "id": "61e84ffc",
   "metadata": {},
   "outputs": [
    {
     "data": {
      "text/plain": [
       "np.int64(22)"
      ]
     },
     "execution_count": 14,
     "metadata": {},
     "output_type": "execute_result"
    }
   ],
   "source": [
    "# check for duplicates\n",
    "df.duplicated().sum()\n"
   ]
  },
  {
   "cell_type": "code",
   "execution_count": 15,
   "id": "ed986d6e",
   "metadata": {},
   "outputs": [
    {
     "data": {
      "text/plain": [
       "np.False_"
      ]
     },
     "execution_count": 15,
     "metadata": {},
     "output_type": "execute_result"
    }
   ],
   "source": [
    "df.drop_duplicates(keep='first', inplace=True)\n",
    "df.duplicated().any()"
   ]
  },
  {
   "cell_type": "code",
   "execution_count": 16,
   "id": "cb2c6591",
   "metadata": {},
   "outputs": [
    {
     "data": {
      "text/plain": [
       "is_there_an_emotion_directed_at_a_brand_or_product\n",
       "Positive emotion    2861\n",
       "Negative emotion     544\n",
       "Name: count, dtype: int64"
      ]
     },
     "execution_count": 16,
     "metadata": {},
     "output_type": "execute_result"
    }
   ],
   "source": [
    "# filter by limiting analysis to positive and negative emotions\n",
    "positive_emotion = df['is_there_an_emotion_directed_at_a_brand_or_product'] == 'Positive emotion'\n",
    "negative_emotion = df['is_there_an_emotion_directed_at_a_brand_or_product'] == 'Negative emotion'\n",
    "\n",
    "df_binary = df[positive_emotion | negative_emotion]\n",
    "df_binary['is_there_an_emotion_directed_at_a_brand_or_product'].value_counts()"
   ]
  },
  {
   "cell_type": "code",
   "execution_count": 17,
   "id": "c87b388f",
   "metadata": {},
   "outputs": [
    {
     "data": {
      "text/plain": [
       "(3405, 2)"
      ]
     },
     "execution_count": 17,
     "metadata": {},
     "output_type": "execute_result"
    }
   ],
   "source": [
    "# check shape of df\n",
    "df_binary.shape"
   ]
  },
  {
   "cell_type": "code",
   "execution_count": 18,
   "id": "83bab0ee",
   "metadata": {},
   "outputs": [
    {
     "data": {
      "text/plain": [
       "is_there_an_emotion_directed_at_a_brand_or_product\n",
       "Neutral emotion     5293\n",
       "Positive emotion    2861\n",
       "Negative emotion     544\n",
       "Name: count, dtype: int64"
      ]
     },
     "execution_count": 18,
     "metadata": {},
     "output_type": "execute_result"
    }
   ],
   "source": [
    "# multiclass dataframe\n",
    "df['is_there_an_emotion_directed_at_a_brand_or_product'] = df['is_there_an_emotion_directed_at_a_brand_or_product'].replace({\n",
    "    'No emotion toward brand or product': 'Neutral emotion',\n",
    "    'I can\\'t tell': 'Neutral emotion'\n",
    "})\n",
    "df['is_there_an_emotion_directed_at_a_brand_or_product'].value_counts()"
   ]
  },
  {
   "cell_type": "markdown",
   "id": "872edf07",
   "metadata": {},
   "source": [
    "### **PREPROCESSING STEPS**\n",
    "\n",
    "* Lowercase Conversion\n",
    "* Remove Bracketed Text\n",
    "* Remove URLs\n",
    "* Remove Tags\n",
    "* Remove Hashtags\n",
    "* Remove Alphanumeric Words\n",
    "* Tokenization\n",
    "* Remove Empty Tokens\n",
    "* Filter by Length: Removes tokens that have a length less than 3 characters.\n",
    "* Stop Word Removal\n",
    "* Punctuation Removal\n",
    "* Stemming\n",
    "* Join Tokens\n",
    "* Normalize Whitespace"
   ]
  },
  {
   "cell_type": "code",
   "execution_count": 19,
   "id": "4b7c063b",
   "metadata": {},
   "outputs": [],
   "source": [
    "# instantiate TweetTokenizer\n",
    "tokenizer = TweetTokenizer(strip_handles=True, reduce_len=True) \n",
    "\n",
    "# Create a list of stop words\n",
    "stopwords_list = set(stopwords.words('english')) \n",
    "\n",
    "# Create an instance of the PorterStemmer\n",
    "stemmer = PorterStemmer()"
   ]
  },
  {
   "cell_type": "code",
   "execution_count": 20,
   "id": "87a8c1cf",
   "metadata": {},
   "outputs": [],
   "source": [
    "def preprocess_text(text, current_tokenizer, current_stopwords_list, current_stemmer): \n",
    "    if not isinstance(text, str):\n",
    "        return []\n",
    "    \n",
    "    text = text.lower() \n",
    "    \n",
    "    text = re.sub(r'\\.{3,}', '', text) \n",
    "    text = re.sub(r'\\[.*?\\]', '', text)       \n",
    "    text = re.sub(r'http\\S+|www\\S+|https\\S+|bit\\.ly/\\S+', '', text) \n",
    "    text = re.sub(r'<.*?>+', '', text)        \n",
    "    \n",
    "    text = re.sub(r'#\\w+', '', text)        \n",
    "    text = re.sub(r'\\w*\\d\\w*', '', text)      \n",
    "\n",
    "    tokens = current_tokenizer.tokenize(text) \n",
    "\n",
    "    tokens = [token for token in tokens if token.strip()]\n",
    "    filtered_by_length = [word for word in tokens if len(word) >= 3]\n",
    "\n",
    "    # Remove stop words\n",
    "    stop_words_removed = [word for word in filtered_by_length if word not in current_stopwords_list] \n",
    "\n",
    "    # Remove punctuation tokens\n",
    "    punctuation_removed = [word for word in stop_words_removed if word not in string.punctuation] \n",
    "\n",
    "    # Stem remaining tokens\n",
    "    stemmed_tokens = [current_stemmer.stem(word) for word in punctuation_removed] \n",
    "\n",
    "    # Join the stemmed tokens back into a single string for vectorization\n",
    "    cleaned_text_str = ' '.join(stemmed_tokens).strip()\n",
    "    cleaned_text_str = re.sub(r'\\s+', ' ', cleaned_text_str).strip()\n",
    "\n",
    "    return cleaned_text_str"
   ]
  },
  {
   "cell_type": "code",
   "execution_count": 21,
   "id": "106a7114",
   "metadata": {},
   "outputs": [],
   "source": [
    "# spliting dataset\n",
    "X = df_binary['tweet_text']\n",
    "y = df_binary['is_there_an_emotion_directed_at_a_brand_or_product']\n",
    "\n",
    "X_train, X_test, y_train, y_test = train_test_split(X, y, test_size=0.25, random_state=42)\n",
    "\n",
    "# split the train dataset to get validation set\n",
    "X_train_final, X_val, y_train_final, y_val = train_test_split(X_train, y_train, test_size=0.25, random_state=42, stratify=y_train)"
   ]
  },
  {
   "cell_type": "code",
   "execution_count": 22,
   "id": "5e34576e",
   "metadata": {},
   "outputs": [
    {
     "name": "stdout",
     "output_type": "stream",
     "text": [
      "Original X_train_final: Hopefully the best thing that comes from #SXSW isn't the fact people flew to Austin to pick up an iPad.\n",
      "Cleaned X_train_cleaned: hope best thing come fact peopl flew austin pick ipad\n"
     ]
    }
   ],
   "source": [
    "# apply preprocessing function to all the splits\n",
    "X_train_cleaned = X_train_final.apply(lambda x: preprocess_text(x, tokenizer, stopwords_list, stemmer))\n",
    "X_val_cleaned = X_val.apply(lambda x: preprocess_text(x, tokenizer, stopwords_list, stemmer))\n",
    "X_test_cleaned = X_test.apply(lambda x: preprocess_text(x, tokenizer, stopwords_list, stemmer))\n",
    "\n",
    "print(f'Original X_train_final: {X_train_final.iloc[0]}')\n",
    "print(f'Cleaned X_train_cleaned: {X_train_cleaned.iloc[0]}')"
   ]
  },
  {
   "cell_type": "code",
   "execution_count": 23,
   "id": "24dae7be",
   "metadata": {},
   "outputs": [
    {
     "name": "stdout",
     "output_type": "stream",
     "text": [
      "Original X_train_final: Grab @mention for #betainvites #sxsw! @mention new Android camera, raises $1.1M from Valley players bit.ly/eA1zgD /via @mention\n",
      "Cleaned X_train_cleaned: grab new android camera rais valley player via\n"
     ]
    }
   ],
   "source": [
    "# multiclass split and preprocessing\n",
    "X_multi = df['tweet_text'] \n",
    "y_multi = df['is_there_an_emotion_directed_at_a_brand_or_product'] \n",
    "\n",
    "X_train_multi, X_test_multi, y_train_multi, y_test_multi = train_test_split(X_multi, y_multi, test_size=0.25, random_state=42)\n",
    "\n",
    "# split the train dataset to get validation set\n",
    "X_train_multi, X_val_multi, y_train_multi, y_val_multi = train_test_split(X_train_multi, y_train_multi, test_size=0.25, random_state=42, stratify=y_train_multi)\n",
    "\n",
    "# apply preprocessing function to all the splits\n",
    "X_train_clean = X_train_multi.apply(lambda x: preprocess_text(x, tokenizer, stopwords_list, stemmer))\n",
    "X_val_clean = X_val_multi.apply(lambda x: preprocess_text(x, tokenizer, stopwords_list, stemmer))\n",
    "X_test_clean = X_test_multi.apply(lambda x: preprocess_text(x, tokenizer, stopwords_list, stemmer))\n",
    "\n",
    "print(f'Original X_train_final: {X_train_multi.iloc[0]}')\n",
    "print(f'Cleaned X_train_cleaned: {X_train_clean.iloc[0]}')\n"
   ]
  },
  {
   "cell_type": "markdown",
   "id": "eed2e1f7",
   "metadata": {},
   "source": [
    "### **EXPLORATORY DATA ANALYSIS**"
   ]
  },
  {
   "cell_type": "code",
   "execution_count": 24,
   "id": "cf0742d7",
   "metadata": {},
   "outputs": [
    {
     "data": {
      "image/png": "[encoded data removed]",
      "text/plain": [
       "<Figure size 800x600 with 1 Axes>"
      ]
     },
     "metadata": {},
     "output_type": "display_data"
    }
   ],
   "source": [
    "# visualize frequency distribution of y_train \n",
    "plt.figure(figsize=(8, 6))\n",
    "sns.countplot(x=y_train_final,hue=y_train_final)\n",
    "plt.title('Distribution of Emotion Categories in Training Set (y_train)', fontsize=14)\n",
    "plt.xlabel('Emotion Category', fontsize=12)\n",
    "plt.ylabel('Number of Samples', fontsize=12)\n",
    "plt.tight_layout()\n",
    "plt.show()"
   ]
  },
  {
   "cell_type": "code",
   "execution_count": 25,
   "id": "a75f91ec",
   "metadata": {},
   "outputs": [
    {
     "data": {
      "image/png": "[encoded data removed]",
      "text/plain": [
       "<Figure size 800x600 with 1 Axes>"
      ]
     },
     "metadata": {},
     "output_type": "display_data"
    }
   ],
   "source": [
    "# visualize frequency distribution of y_train \n",
    "plt.figure(figsize=(8, 6))\n",
    "sns.countplot(x=y_train_multi,hue=y_train_multi, palette='viridis')\n",
    "plt.title('Distribution of Emotion Categories in Training Set (y_train_multi)', fontsize=14)\n",
    "plt.xlabel('Emotion Category', fontsize=12)\n",
    "plt.ylabel('Number of Samples', fontsize=12)\n",
    "plt.tight_layout()\n",
    "plt.show()"
   ]
  },
  {
   "cell_type": "code",
   "execution_count": 26,
   "id": "d34872be",
   "metadata": {},
   "outputs": [],
   "source": [
    "# function to visualize frequency distribution\n",
    "def visualize_top_10(freq_dist_list, title):\n",
    "\n",
    "    # Extract data for plotting\n",
    "    top_10_items = freq_dist_list[:10]\n",
    "\n",
    "    tokens = [item[0] for item in top_10_items]\n",
    "    counts = [item[1] for item in top_10_items]\n",
    "\n",
    "\n",
    "    # Set up plot and plot data\n",
    "    fig, ax = plt.subplots()\n",
    "    ax.bar(tokens, counts)\n",
    "\n",
    "    # Customize plot appearance\n",
    "    ax.set_title(title)\n",
    "    ax.set_ylabel(\"Count\")\n",
    "    ax.yaxis.set_major_locator(MaxNLocator(integer=True))\n",
    "    ax.tick_params(axis=\"x\", rotation=90)\n",
    "    "
   ]
  },
  {
   "cell_type": "code",
   "execution_count": 27,
   "id": "17be8e66",
   "metadata": {},
   "outputs": [
    {
     "data": {
      "image/png": "[encoded data removed]",
      "text/plain": [
       "<Figure size 640x480 with 1 Axes>"
      ]
     },
     "metadata": {},
     "output_type": "display_data"
    }
   ],
   "source": [
    "# \n",
    "all_words_from_cleaned_tweets = []\n",
    "for tweet_str in X_train_cleaned:\n",
    "    # Split each cleaned tweet string into words and add to the list\n",
    "    all_words_from_cleaned_tweets.extend(tweet_str.split())\n",
    "\n",
    "# Create a frequency distribution using Counter\n",
    "cleaned_words_freq = Counter(all_words_from_cleaned_tweets)\n",
    "\n",
    "visualize_top_10(cleaned_words_freq.most_common(10), 'Top 10 Most Common Words in Cleaned Training Data')"
   ]
  },
  {
   "cell_type": "code",
   "execution_count": 28,
   "id": "a2a831b9",
   "metadata": {},
   "outputs": [
    {
     "data": {
      "image/png": "[encoded data removed]",
      "text/plain": [
       "<Figure size 640x480 with 1 Axes>"
      ]
     },
     "metadata": {},
     "output_type": "display_data"
    }
   ],
   "source": [
    "# \n",
    "positive_emotion_tweets_cleaned = X_train_cleaned[y_train_final == 'Positive emotion']\n",
    "\n",
    "all_words_positive = []\n",
    "for tweet_str in positive_emotion_tweets_cleaned:\n",
    "    all_words_positive.extend(tweet_str.split())\n",
    "\n",
    "# 3. Calculate frequency distribution\n",
    "freq_dist_positive = Counter(all_words_positive)\n",
    "\n",
    "visualize_top_10( freq_dist_positive.most_common(10), 'Top 10 Most Common Words for positive Emotion (Training Data)')"
   ]
  },
  {
   "cell_type": "code",
   "execution_count": 29,
   "id": "debb799b",
   "metadata": {},
   "outputs": [
    {
     "data": {
      "image/png": "[encoded data removed]",
      "text/plain": [
       "<Figure size 640x480 with 1 Axes>"
      ]
     },
     "metadata": {},
     "output_type": "display_data"
    }
   ],
   "source": [
    "# fr\n",
    "negative_emotion_tweets_cleaned = X_train_cleaned[y_train_final == 'Negative emotion']\n",
    "all_words_negative = []\n",
    "for tweet_str in negative_emotion_tweets_cleaned:\n",
    "    all_words_negative.extend(tweet_str.split())\n",
    "\n",
    "# 3. Calculate frequency distribution\n",
    "freq_dist_negative = Counter(all_words_negative)\n",
    "\n",
    "# 4. Use visualize_top_10 function\n",
    "visualize_top_10( freq_dist_negative.most_common(10), 'Top 10 Most Common Words for Negative Emotion (Training Data)')"
   ]
  },
  {
   "cell_type": "code",
   "execution_count": 30,
   "id": "e7ca12f5",
   "metadata": {},
   "outputs": [
    {
     "data": {
      "text/html": [
       "<div>\n",
       "<style scoped>\n",
       "    .dataframe tbody tr th:only-of-type {\n",
       "        vertical-align: middle;\n",
       "    }\n",
       "\n",
       "    .dataframe tbody tr th {\n",
       "        vertical-align: top;\n",
       "    }\n",
       "\n",
       "    .dataframe thead th {\n",
       "        text-align: right;\n",
       "    }\n",
       "</style>\n",
       "<table border=\"1\" class=\"dataframe\">\n",
       "  <thead>\n",
       "    <tr style=\"text-align: right;\">\n",
       "      <th></th>\n",
       "      <th>tweet_text</th>\n",
       "      <th>emotion_in_tweet_is_directed_at</th>\n",
       "      <th>is_there_an_emotion_directed_at_a_brand_or_product</th>\n",
       "      <th>Brand</th>\n",
       "    </tr>\n",
       "  </thead>\n",
       "  <tbody>\n",
       "    <tr>\n",
       "      <th>0</th>\n",
       "      <td>.@wesley83 I have a 3G iPhone. After 3 hrs twe...</td>\n",
       "      <td>iPhone</td>\n",
       "      <td>Negative emotion</td>\n",
       "      <td>Apple</td>\n",
       "    </tr>\n",
       "    <tr>\n",
       "      <th>1</th>\n",
       "      <td>@jessedee Know about @fludapp ? Awesome iPad/i...</td>\n",
       "      <td>iPad or iPhone App</td>\n",
       "      <td>Positive emotion</td>\n",
       "      <td>Apple</td>\n",
       "    </tr>\n",
       "    <tr>\n",
       "      <th>2</th>\n",
       "      <td>@swonderlin Can not wait for #iPad 2 also. The...</td>\n",
       "      <td>iPad</td>\n",
       "      <td>Positive emotion</td>\n",
       "      <td>Apple</td>\n",
       "    </tr>\n",
       "    <tr>\n",
       "      <th>3</th>\n",
       "      <td>@sxsw I hope this year's festival isn't as cra...</td>\n",
       "      <td>iPad or iPhone App</td>\n",
       "      <td>Negative emotion</td>\n",
       "      <td>Apple</td>\n",
       "    </tr>\n",
       "    <tr>\n",
       "      <th>4</th>\n",
       "      <td>@sxtxstate great stuff on Fri #SXSW: Marissa M...</td>\n",
       "      <td>Google</td>\n",
       "      <td>Positive emotion</td>\n",
       "      <td>Google</td>\n",
       "    </tr>\n",
       "  </tbody>\n",
       "</table>\n",
       "</div>"
      ],
      "text/plain": [
       "                                          tweet_text  \\\n",
       "0  .@wesley83 I have a 3G iPhone. After 3 hrs twe...   \n",
       "1  @jessedee Know about @fludapp ? Awesome iPad/i...   \n",
       "2  @swonderlin Can not wait for #iPad 2 also. The...   \n",
       "3  @sxsw I hope this year's festival isn't as cra...   \n",
       "4  @sxtxstate great stuff on Fri #SXSW: Marissa M...   \n",
       "\n",
       "  emotion_in_tweet_is_directed_at  \\\n",
       "0                          iPhone   \n",
       "1              iPad or iPhone App   \n",
       "2                            iPad   \n",
       "3              iPad or iPhone App   \n",
       "4                          Google   \n",
       "\n",
       "  is_there_an_emotion_directed_at_a_brand_or_product   Brand  \n",
       "0                                   Negative emotion   Apple  \n",
       "1                                   Positive emotion   Apple  \n",
       "2                                   Positive emotion   Apple  \n",
       "3                                   Negative emotion   Apple  \n",
       "4                                   Positive emotion  Google  "
      ]
     },
     "execution_count": 30,
     "metadata": {},
     "output_type": "execute_result"
    }
   ],
   "source": [
    "brands ={'iPhone': 'Apple', 'iPad or iPhone App': 'Apple', 'iPad': 'Apple', \n",
    "            'Google': 'Google', 'Unknown': 'Unknown',\n",
    "            'Android': 'Google', 'Apple': 'Apple', 'Android App': 'Google',\n",
    "            'Other Google product or service': 'Google',\n",
    "            'Other Apple product or service': 'Apple'}\n",
    "df_brand['Brand'] = df_brand['emotion_in_tweet_is_directed_at'].map(brands)\n",
    "df_brand['Brand'].unique()\n",
    "df_brand.head()"
   ]
  },
  {
   "cell_type": "code",
   "execution_count": 31,
   "id": "86f1df7e",
   "metadata": {},
   "outputs": [
    {
     "data": {
      "image/png": "[encoded data removed]",
      "text/plain": [
       "<Figure size 800x600 with 1 Axes>"
      ]
     },
     "metadata": {},
     "output_type": "display_data"
    }
   ],
   "source": [
    "# Counts the number of Apple and Google brands\n",
    "apple_count = df_brand[df_brand['Brand'] == 'Apple'].shape[0]\n",
    "google_count = df_brand[df_brand['Brand'] == 'Google'].shape[0]\n",
    "\n",
    "# Creates a bar graph of the brand counts\n",
    "brands = ['Apple', 'Google']\n",
    "counts = [apple_count, google_count]\n",
    "\n",
    "plt.figure(figsize=(8, 6))\n",
    "plt.bar(brands, counts)\n",
    "plt.xlabel('Brand')\n",
    "plt.ylabel('Count')\n",
    "plt.title('Number of Apple and Google Brands')\n",
    "plt.show()"
   ]
  },
  {
   "cell_type": "code",
   "execution_count": 32,
   "id": "ad91d6af",
   "metadata": {},
   "outputs": [
    {
     "data": {
      "text/plain": [
       "is_there_an_emotion_directed_at_a_brand_or_product\n",
       "Neutral emotion     5307\n",
       "Positive emotion    2869\n",
       "Negative emotion     545\n",
       "Name: count, dtype: int64"
      ]
     },
     "execution_count": 32,
     "metadata": {},
     "output_type": "execute_result"
    }
   ],
   "source": [
    "df_brand['is_there_an_emotion_directed_at_a_brand_or_product']  = df_brand['is_there_an_emotion_directed_at_a_brand_or_product'].replace({\n",
    "    'No emotion toward brand or product': 'Neutral emotion',\n",
    "    'I can\\'t tell': 'Neutral emotion'\n",
    "})\n",
    "df_brand['is_there_an_emotion_directed_at_a_brand_or_product'].value_counts()"
   ]
  },
  {
   "cell_type": "code",
   "execution_count": 33,
   "id": "9f88290f",
   "metadata": {},
   "outputs": [
    {
     "data": {
      "image/png": "[encoded data removed]",
      "text/plain": [
       "<Figure size 640x480 with 1 Axes>"
      ]
     },
     "metadata": {},
     "output_type": "display_data"
    }
   ],
   "source": [
    "sns.countplot(data=df_brand, x='Brand', hue='is_there_an_emotion_directed_at_a_brand_or_product');"
   ]
  },
  {
   "cell_type": "code",
   "execution_count": 34,
   "id": "b421c714",
   "metadata": {},
   "outputs": [
    {
     "data": {
      "text/html": [
       "<div>\n",
       "<style scoped>\n",
       "    .dataframe tbody tr th:only-of-type {\n",
       "        vertical-align: middle;\n",
       "    }\n",
       "\n",
       "    .dataframe tbody tr th {\n",
       "        vertical-align: top;\n",
       "    }\n",
       "\n",
       "    .dataframe thead th {\n",
       "        text-align: right;\n",
       "    }\n",
       "</style>\n",
       "<table border=\"1\" class=\"dataframe\">\n",
       "  <thead>\n",
       "    <tr style=\"text-align: right;\">\n",
       "      <th></th>\n",
       "      <th>tweet_text</th>\n",
       "      <th>emotion_in_tweet_is_directed_at</th>\n",
       "      <th>is_there_an_emotion_directed_at_a_brand_or_product</th>\n",
       "      <th>Brand</th>\n",
       "      <th>preprocessed_text</th>\n",
       "    </tr>\n",
       "  </thead>\n",
       "  <tbody>\n",
       "    <tr>\n",
       "      <th>0</th>\n",
       "      <td>.@wesley83 I have a 3G iPhone. After 3 hrs twe...</td>\n",
       "      <td>iPhone</td>\n",
       "      <td>Negative emotion</td>\n",
       "      <td>Apple</td>\n",
       "      <td>iphon hr tweet dead need upgrad plugin station</td>\n",
       "    </tr>\n",
       "    <tr>\n",
       "      <th>1</th>\n",
       "      <td>@jessedee Know about @fludapp ? Awesome iPad/i...</td>\n",
       "      <td>iPad or iPhone App</td>\n",
       "      <td>Positive emotion</td>\n",
       "      <td>Apple</td>\n",
       "      <td>know awesom ipad iphon app like appreci design...</td>\n",
       "    </tr>\n",
       "    <tr>\n",
       "      <th>2</th>\n",
       "      <td>@swonderlin Can not wait for #iPad 2 also. The...</td>\n",
       "      <td>iPad</td>\n",
       "      <td>Positive emotion</td>\n",
       "      <td>Apple</td>\n",
       "      <td>wait also sale</td>\n",
       "    </tr>\n",
       "    <tr>\n",
       "      <th>3</th>\n",
       "      <td>@sxsw I hope this year's festival isn't as cra...</td>\n",
       "      <td>iPad or iPhone App</td>\n",
       "      <td>Negative emotion</td>\n",
       "      <td>Apple</td>\n",
       "      <td>hope year' festiv crashi year' iphon app</td>\n",
       "    </tr>\n",
       "    <tr>\n",
       "      <th>4</th>\n",
       "      <td>@sxtxstate great stuff on Fri #SXSW: Marissa M...</td>\n",
       "      <td>Google</td>\n",
       "      <td>Positive emotion</td>\n",
       "      <td>Google</td>\n",
       "      <td>great stuff fri marissa mayer googl tim o'reil...</td>\n",
       "    </tr>\n",
       "  </tbody>\n",
       "</table>\n",
       "</div>"
      ],
      "text/plain": [
       "                                          tweet_text  \\\n",
       "0  .@wesley83 I have a 3G iPhone. After 3 hrs twe...   \n",
       "1  @jessedee Know about @fludapp ? Awesome iPad/i...   \n",
       "2  @swonderlin Can not wait for #iPad 2 also. The...   \n",
       "3  @sxsw I hope this year's festival isn't as cra...   \n",
       "4  @sxtxstate great stuff on Fri #SXSW: Marissa M...   \n",
       "\n",
       "  emotion_in_tweet_is_directed_at  \\\n",
       "0                          iPhone   \n",
       "1              iPad or iPhone App   \n",
       "2                            iPad   \n",
       "3              iPad or iPhone App   \n",
       "4                          Google   \n",
       "\n",
       "  is_there_an_emotion_directed_at_a_brand_or_product   Brand  \\\n",
       "0                                   Negative emotion   Apple   \n",
       "1                                   Positive emotion   Apple   \n",
       "2                                   Positive emotion   Apple   \n",
       "3                                   Negative emotion   Apple   \n",
       "4                                   Positive emotion  Google   \n",
       "\n",
       "                                   preprocessed_text  \n",
       "0     iphon hr tweet dead need upgrad plugin station  \n",
       "1  know awesom ipad iphon app like appreci design...  \n",
       "2                                     wait also sale  \n",
       "3           hope year' festiv crashi year' iphon app  \n",
       "4  great stuff fri marissa mayer googl tim o'reil...  "
      ]
     },
     "execution_count": 34,
     "metadata": {},
     "output_type": "execute_result"
    }
   ],
   "source": [
    "df_brand['preprocessed_text'] = df_brand['tweet_text'].apply(\n",
    "    lambda x: preprocess_text(x, tokenizer, stopwords_list, stemmer)\n",
    ")\n",
    "\n",
    "df_brand.head()"
   ]
  },
  {
   "cell_type": "markdown",
   "id": "efededd5",
   "metadata": {},
   "source": [
    "### FEATURE EXTRACTION\n",
    "* Apply Tf-idf to get obtain words that are perceived to be important based on its appearance frequency."
   ]
  },
  {
   "cell_type": "code",
   "execution_count": 37,
   "id": "d9dc6cbe",
   "metadata": {},
   "outputs": [
    {
     "data": {
      "text/html": [
       "<div>\n",
       "<style scoped>\n",
       "    .dataframe tbody tr th:only-of-type {\n",
       "        vertical-align: middle;\n",
       "    }\n",
       "\n",
       "    .dataframe tbody tr th {\n",
       "        vertical-align: top;\n",
       "    }\n",
       "\n",
       "    .dataframe thead th {\n",
       "        text-align: right;\n",
       "    }\n",
       "</style>\n",
       "<table border=\"1\" class=\"dataframe\">\n",
       "  <thead>\n",
       "    <tr style=\"text-align: right;\">\n",
       "      <th></th>\n",
       "      <th>app</th>\n",
       "      <th>appl</th>\n",
       "      <th>austin</th>\n",
       "      <th>get</th>\n",
       "      <th>googl</th>\n",
       "      <th>ipad</th>\n",
       "      <th>iphon</th>\n",
       "      <th>link</th>\n",
       "      <th>new</th>\n",
       "      <th>store</th>\n",
       "    </tr>\n",
       "  </thead>\n",
       "  <tbody>\n",
       "    <tr>\n",
       "      <th>0</th>\n",
       "      <td>0</td>\n",
       "      <td>0</td>\n",
       "      <td>0.848764</td>\n",
       "      <td>0</td>\n",
       "      <td>0</td>\n",
       "      <td>0.528772</td>\n",
       "      <td>0</td>\n",
       "      <td>0</td>\n",
       "      <td>0</td>\n",
       "      <td>0</td>\n",
       "    </tr>\n",
       "    <tr>\n",
       "      <th>1</th>\n",
       "      <td>0</td>\n",
       "      <td>0</td>\n",
       "      <td>0</td>\n",
       "      <td>0</td>\n",
       "      <td>0</td>\n",
       "      <td>1.0</td>\n",
       "      <td>0</td>\n",
       "      <td>0</td>\n",
       "      <td>0</td>\n",
       "      <td>0</td>\n",
       "    </tr>\n",
       "    <tr>\n",
       "      <th>2</th>\n",
       "      <td>0</td>\n",
       "      <td>0</td>\n",
       "      <td>0</td>\n",
       "      <td>0</td>\n",
       "      <td>0</td>\n",
       "      <td>0</td>\n",
       "      <td>0</td>\n",
       "      <td>1.0</td>\n",
       "      <td>0</td>\n",
       "      <td>0</td>\n",
       "    </tr>\n",
       "    <tr>\n",
       "      <th>3</th>\n",
       "      <td>0</td>\n",
       "      <td>0.488055</td>\n",
       "      <td>0.673326</td>\n",
       "      <td>0</td>\n",
       "      <td>0</td>\n",
       "      <td>0</td>\n",
       "      <td>0</td>\n",
       "      <td>0</td>\n",
       "      <td>0</td>\n",
       "      <td>0.555369</td>\n",
       "    </tr>\n",
       "    <tr>\n",
       "      <th>4</th>\n",
       "      <td>0</td>\n",
       "      <td>0</td>\n",
       "      <td>0</td>\n",
       "      <td>0</td>\n",
       "      <td>0</td>\n",
       "      <td>0</td>\n",
       "      <td>0</td>\n",
       "      <td>1.0</td>\n",
       "      <td>0</td>\n",
       "      <td>0</td>\n",
       "    </tr>\n",
       "    <tr>\n",
       "      <th>...</th>\n",
       "      <td>...</td>\n",
       "      <td>...</td>\n",
       "      <td>...</td>\n",
       "      <td>...</td>\n",
       "      <td>...</td>\n",
       "      <td>...</td>\n",
       "      <td>...</td>\n",
       "      <td>...</td>\n",
       "      <td>...</td>\n",
       "      <td>...</td>\n",
       "    </tr>\n",
       "    <tr>\n",
       "      <th>1909</th>\n",
       "      <td>0</td>\n",
       "      <td>0</td>\n",
       "      <td>0</td>\n",
       "      <td>0</td>\n",
       "      <td>0</td>\n",
       "      <td>0</td>\n",
       "      <td>1.0</td>\n",
       "      <td>0</td>\n",
       "      <td>0</td>\n",
       "      <td>0</td>\n",
       "    </tr>\n",
       "    <tr>\n",
       "      <th>1910</th>\n",
       "      <td>0</td>\n",
       "      <td>0</td>\n",
       "      <td>0</td>\n",
       "      <td>0</td>\n",
       "      <td>0</td>\n",
       "      <td>0.735232</td>\n",
       "      <td>0</td>\n",
       "      <td>0.677816</td>\n",
       "      <td>0</td>\n",
       "      <td>0</td>\n",
       "    </tr>\n",
       "    <tr>\n",
       "      <th>1911</th>\n",
       "      <td>0</td>\n",
       "      <td>0.714923</td>\n",
       "      <td>0.493157</td>\n",
       "      <td>0</td>\n",
       "      <td>0</td>\n",
       "      <td>0</td>\n",
       "      <td>0</td>\n",
       "      <td>0.28324</td>\n",
       "      <td>0</td>\n",
       "      <td>0.406764</td>\n",
       "    </tr>\n",
       "    <tr>\n",
       "      <th>1912</th>\n",
       "      <td>0.646954</td>\n",
       "      <td>0</td>\n",
       "      <td>0</td>\n",
       "      <td>0</td>\n",
       "      <td>0</td>\n",
       "      <td>0</td>\n",
       "      <td>0.617945</td>\n",
       "      <td>0.446761</td>\n",
       "      <td>0</td>\n",
       "      <td>0</td>\n",
       "    </tr>\n",
       "    <tr>\n",
       "      <th>1913</th>\n",
       "      <td>0</td>\n",
       "      <td>0</td>\n",
       "      <td>0</td>\n",
       "      <td>0</td>\n",
       "      <td>1.0</td>\n",
       "      <td>0</td>\n",
       "      <td>0</td>\n",
       "      <td>0</td>\n",
       "      <td>0</td>\n",
       "      <td>0</td>\n",
       "    </tr>\n",
       "  </tbody>\n",
       "</table>\n",
       "<p>1914 rows × 10 columns</p>\n",
       "</div>"
      ],
      "text/plain": [
       "           app      appl    austin  get  googl      ipad     iphon      link  \\\n",
       "0            0         0  0.848764    0      0  0.528772         0         0   \n",
       "1            0         0         0    0      0       1.0         0         0   \n",
       "2            0         0         0    0      0         0         0       1.0   \n",
       "3            0  0.488055  0.673326    0      0         0         0         0   \n",
       "4            0         0         0    0      0         0         0       1.0   \n",
       "...        ...       ...       ...  ...    ...       ...       ...       ...   \n",
       "1909         0         0         0    0      0         0       1.0         0   \n",
       "1910         0         0         0    0      0  0.735232         0  0.677816   \n",
       "1911         0  0.714923  0.493157    0      0         0         0   0.28324   \n",
       "1912  0.646954         0         0    0      0         0  0.617945  0.446761   \n",
       "1913         0         0         0    0    1.0         0         0         0   \n",
       "\n",
       "      new     store  \n",
       "0       0         0  \n",
       "1       0         0  \n",
       "2       0         0  \n",
       "3       0  0.555369  \n",
       "4       0         0  \n",
       "...   ...       ...  \n",
       "1909    0         0  \n",
       "1910    0         0  \n",
       "1911    0  0.406764  \n",
       "1912    0         0  \n",
       "1913    0         0  \n",
       "\n",
       "[1914 rows x 10 columns]"
      ]
     },
     "execution_count": 37,
     "metadata": {},
     "output_type": "execute_result"
    }
   ],
   "source": [
    "tfidf_sample = TfidfVectorizer(max_features=10)\n",
    "\n",
    "# Fit the vectorizer on X_train_cleaned and transform it\n",
    "X_train_sample = tfidf_sample.fit_transform(X_train_cleaned)\n",
    "\n",
    "# Get the feature names from the vectorizer\n",
    "feature_names = tfidf_sample.get_feature_names_out()\n",
    "\n",
    "# Visually inspect the vectorized data\n",
    "pd.DataFrame.sparse.from_spmatrix(X_train_sample, columns=feature_names)\n"
   ]
  },
  {
   "cell_type": "markdown",
   "id": "22bf163d",
   "metadata": {},
   "source": [
    "### **BINARY CLASSIFIERS**\n",
    "#### LOGISTIC REGRESSION - BASELINE MODEL"
   ]
  },
  {
   "cell_type": "code",
   "execution_count": 38,
   "id": "94ce191c",
   "metadata": {},
   "outputs": [
    {
     "data": {
      "text/html": [
       "<style>#sk-container-id-1 {\n",
       "  /* Definition of color scheme common for light and dark mode */\n",
       "  --sklearn-color-text: #000;\n",
       "  --sklearn-color-text-muted: #666;\n",
       "  --sklearn-color-line: gray;\n",
       "  /* Definition of color scheme for unfitted estimators */\n",
       "  --sklearn-color-unfitted-level-0: #fff5e6;\n",
       "  --sklearn-color-unfitted-level-1: #f6e4d2;\n",
       "  --sklearn-color-unfitted-level-2: #ffe0b3;\n",
       "  --sklearn-color-unfitted-level-3: chocolate;\n",
       "  /* Definition of color scheme for fitted estimators */\n",
       "  --sklearn-color-fitted-level-0: #f0f8ff;\n",
       "  --sklearn-color-fitted-level-1: #d4ebff;\n",
       "  --sklearn-color-fitted-level-2: #b3dbfd;\n",
       "  --sklearn-color-fitted-level-3: cornflowerblue;\n",
       "\n",
       "  /* Specific color for light theme */\n",
       "  --sklearn-color-text-on-default-background: var(--sg-text-color, var(--theme-code-foreground, var(--jp-content-font-color1, black)));\n",
       "  --sklearn-color-background: var(--sg-background-color, var(--theme-background, var(--jp-layout-color0, white)));\n",
       "  --sklearn-color-border-box: var(--sg-text-color, var(--theme-code-foreground, var(--jp-content-font-color1, black)));\n",
       "  --sklearn-color-icon: #696969;\n",
       "\n",
       "  @media (prefers-color-scheme: dark) {\n",
       "    /* Redefinition of color scheme for dark theme */\n",
       "    --sklearn-color-text-on-default-background: var(--sg-text-color, var(--theme-code-foreground, var(--jp-content-font-color1, white)));\n",
       "    --sklearn-color-background: var(--sg-background-color, var(--theme-background, var(--jp-layout-color0, #111)));\n",
       "    --sklearn-color-border-box: var(--sg-text-color, var(--theme-code-foreground, var(--jp-content-font-color1, white)));\n",
       "    --sklearn-color-icon: #878787;\n",
       "  }\n",
       "}\n",
       "\n",
       "#sk-container-id-1 {\n",
       "  color: var(--sklearn-color-text);\n",
       "}\n",
       "\n",
       "#sk-container-id-1 pre {\n",
       "  padding: 0;\n",
       "}\n",
       "\n",
       "#sk-container-id-1 input.sk-hidden--visually {\n",
       "  border: 0;\n",
       "  clip: rect(1px 1px 1px 1px);\n",
       "  clip: rect(1px, 1px, 1px, 1px);\n",
       "  height: 1px;\n",
       "  margin: -1px;\n",
       "  overflow: hidden;\n",
       "  padding: 0;\n",
       "  position: absolute;\n",
       "  width: 1px;\n",
       "}\n",
       "\n",
       "#sk-container-id-1 div.sk-dashed-wrapped {\n",
       "  border: 1px dashed var(--sklearn-color-line);\n",
       "  margin: 0 0.4em 0.5em 0.4em;\n",
       "  box-sizing: border-box;\n",
       "  padding-bottom: 0.4em;\n",
       "  background-color: var(--sklearn-color-background);\n",
       "}\n",
       "\n",
       "#sk-container-id-1 div.sk-container {\n",
       "  /* jupyter's `normalize.less` sets `[hidden] { display: none; }`\n",
       "     but bootstrap.min.css set `[hidden] { display: none !important; }`\n",
       "     so we also need the `!important` here to be able to override the\n",
       "     default hidden behavior on the sphinx rendered scikit-learn.org.\n",
       "     See: https://github.com/scikit-learn/scikit-learn/issues/21755 */\n",
       "  display: inline-block !important;\n",
       "  position: relative;\n",
       "}\n",
       "\n",
       "#sk-container-id-1 div.sk-text-repr-fallback {\n",
       "  display: none;\n",
       "}\n",
       "\n",
       "div.sk-parallel-item,\n",
       "div.sk-serial,\n",
       "div.sk-item {\n",
       "  /* draw centered vertical line to link estimators */\n",
       "  background-image: linear-gradient(var(--sklearn-color-text-on-default-background), var(--sklearn-color-text-on-default-background));\n",
       "  background-size: 2px 100%;\n",
       "  background-repeat: no-repeat;\n",
       "  background-position: center center;\n",
       "}\n",
       "\n",
       "/* Parallel-specific style estimator block */\n",
       "\n",
       "#sk-container-id-1 div.sk-parallel-item::after {\n",
       "  content: \"\";\n",
       "  width: 100%;\n",
       "  border-bottom: 2px solid var(--sklearn-color-text-on-default-background);\n",
       "  flex-grow: 1;\n",
       "}\n",
       "\n",
       "#sk-container-id-1 div.sk-parallel {\n",
       "  display: flex;\n",
       "  align-items: stretch;\n",
       "  justify-content: center;\n",
       "  background-color: var(--sklearn-color-background);\n",
       "  position: relative;\n",
       "}\n",
       "\n",
       "#sk-container-id-1 div.sk-parallel-item {\n",
       "  display: flex;\n",
       "  flex-direction: column;\n",
       "}\n",
       "\n",
       "#sk-container-id-1 div.sk-parallel-item:first-child::after {\n",
       "  align-self: flex-end;\n",
       "  width: 50%;\n",
       "}\n",
       "\n",
       "#sk-container-id-1 div.sk-parallel-item:last-child::after {\n",
       "  align-self: flex-start;\n",
       "  width: 50%;\n",
       "}\n",
       "\n",
       "#sk-container-id-1 div.sk-parallel-item:only-child::after {\n",
       "  width: 0;\n",
       "}\n",
       "\n",
       "/* Serial-specific style estimator block */\n",
       "\n",
       "#sk-container-id-1 div.sk-serial {\n",
       "  display: flex;\n",
       "  flex-direction: column;\n",
       "  align-items: center;\n",
       "  background-color: var(--sklearn-color-background);\n",
       "  padding-right: 1em;\n",
       "  padding-left: 1em;\n",
       "}\n",
       "\n",
       "\n",
       "/* Toggleable style: style used for estimator/Pipeline/ColumnTransformer box that is\n",
       "clickable and can be expanded/collapsed.\n",
       "- Pipeline and ColumnTransformer use this feature and define the default style\n",
       "- Estimators will overwrite some part of the style using the `sk-estimator` class\n",
       "*/\n",
       "\n",
       "/* Pipeline and ColumnTransformer style (default) */\n",
       "\n",
       "#sk-container-id-1 div.sk-toggleable {\n",
       "  /* Default theme specific background. It is overwritten whether we have a\n",
       "  specific estimator or a Pipeline/ColumnTransformer */\n",
       "  background-color: var(--sklearn-color-background);\n",
       "}\n",
       "\n",
       "/* Toggleable label */\n",
       "#sk-container-id-1 label.sk-toggleable__label {\n",
       "  cursor: pointer;\n",
       "  display: flex;\n",
       "  width: 100%;\n",
       "  margin-bottom: 0;\n",
       "  padding: 0.5em;\n",
       "  box-sizing: border-box;\n",
       "  text-align: center;\n",
       "  align-items: start;\n",
       "  justify-content: space-between;\n",
       "  gap: 0.5em;\n",
       "}\n",
       "\n",
       "#sk-container-id-1 label.sk-toggleable__label .caption {\n",
       "  font-size: 0.6rem;\n",
       "  font-weight: lighter;\n",
       "  color: var(--sklearn-color-text-muted);\n",
       "}\n",
       "\n",
       "#sk-container-id-1 label.sk-toggleable__label-arrow:before {\n",
       "  /* Arrow on the left of the label */\n",
       "  content: \"▸\";\n",
       "  float: left;\n",
       "  margin-right: 0.25em;\n",
       "  color: var(--sklearn-color-icon);\n",
       "}\n",
       "\n",
       "#sk-container-id-1 label.sk-toggleable__label-arrow:hover:before {\n",
       "  color: var(--sklearn-color-text);\n",
       "}\n",
       "\n",
       "/* Toggleable content - dropdown */\n",
       "\n",
       "#sk-container-id-1 div.sk-toggleable__content {\n",
       "  max-height: 0;\n",
       "  max-width: 0;\n",
       "  overflow: hidden;\n",
       "  text-align: left;\n",
       "  /* unfitted */\n",
       "  background-color: var(--sklearn-color-unfitted-level-0);\n",
       "}\n",
       "\n",
       "#sk-container-id-1 div.sk-toggleable__content.fitted {\n",
       "  /* fitted */\n",
       "  background-color: var(--sklearn-color-fitted-level-0);\n",
       "}\n",
       "\n",
       "#sk-container-id-1 div.sk-toggleable__content pre {\n",
       "  margin: 0.2em;\n",
       "  border-radius: 0.25em;\n",
       "  color: var(--sklearn-color-text);\n",
       "  /* unfitted */\n",
       "  background-color: var(--sklearn-color-unfitted-level-0);\n",
       "}\n",
       "\n",
       "#sk-container-id-1 div.sk-toggleable__content.fitted pre {\n",
       "  /* unfitted */\n",
       "  background-color: var(--sklearn-color-fitted-level-0);\n",
       "}\n",
       "\n",
       "#sk-container-id-1 input.sk-toggleable__control:checked~div.sk-toggleable__content {\n",
       "  /* Expand drop-down */\n",
       "  max-height: 200px;\n",
       "  max-width: 100%;\n",
       "  overflow: auto;\n",
       "}\n",
       "\n",
       "#sk-container-id-1 input.sk-toggleable__control:checked~label.sk-toggleable__label-arrow:before {\n",
       "  content: \"▾\";\n",
       "}\n",
       "\n",
       "/* Pipeline/ColumnTransformer-specific style */\n",
       "\n",
       "#sk-container-id-1 div.sk-label input.sk-toggleable__control:checked~label.sk-toggleable__label {\n",
       "  color: var(--sklearn-color-text);\n",
       "  background-color: var(--sklearn-color-unfitted-level-2);\n",
       "}\n",
       "\n",
       "#sk-container-id-1 div.sk-label.fitted input.sk-toggleable__control:checked~label.sk-toggleable__label {\n",
       "  background-color: var(--sklearn-color-fitted-level-2);\n",
       "}\n",
       "\n",
       "/* Estimator-specific style */\n",
       "\n",
       "/* Colorize estimator box */\n",
       "#sk-container-id-1 div.sk-estimator input.sk-toggleable__control:checked~label.sk-toggleable__label {\n",
       "  /* unfitted */\n",
       "  background-color: var(--sklearn-color-unfitted-level-2);\n",
       "}\n",
       "\n",
       "#sk-container-id-1 div.sk-estimator.fitted input.sk-toggleable__control:checked~label.sk-toggleable__label {\n",
       "  /* fitted */\n",
       "  background-color: var(--sklearn-color-fitted-level-2);\n",
       "}\n",
       "\n",
       "#sk-container-id-1 div.sk-label label.sk-toggleable__label,\n",
       "#sk-container-id-1 div.sk-label label {\n",
       "  /* The background is the default theme color */\n",
       "  color: var(--sklearn-color-text-on-default-background);\n",
       "}\n",
       "\n",
       "/* On hover, darken the color of the background */\n",
       "#sk-container-id-1 div.sk-label:hover label.sk-toggleable__label {\n",
       "  color: var(--sklearn-color-text);\n",
       "  background-color: var(--sklearn-color-unfitted-level-2);\n",
       "}\n",
       "\n",
       "/* Label box, darken color on hover, fitted */\n",
       "#sk-container-id-1 div.sk-label.fitted:hover label.sk-toggleable__label.fitted {\n",
       "  color: var(--sklearn-color-text);\n",
       "  background-color: var(--sklearn-color-fitted-level-2);\n",
       "}\n",
       "\n",
       "/* Estimator label */\n",
       "\n",
       "#sk-container-id-1 div.sk-label label {\n",
       "  font-family: monospace;\n",
       "  font-weight: bold;\n",
       "  display: inline-block;\n",
       "  line-height: 1.2em;\n",
       "}\n",
       "\n",
       "#sk-container-id-1 div.sk-label-container {\n",
       "  text-align: center;\n",
       "}\n",
       "\n",
       "/* Estimator-specific */\n",
       "#sk-container-id-1 div.sk-estimator {\n",
       "  font-family: monospace;\n",
       "  border: 1px dotted var(--sklearn-color-border-box);\n",
       "  border-radius: 0.25em;\n",
       "  box-sizing: border-box;\n",
       "  margin-bottom: 0.5em;\n",
       "  /* unfitted */\n",
       "  background-color: var(--sklearn-color-unfitted-level-0);\n",
       "}\n",
       "\n",
       "#sk-container-id-1 div.sk-estimator.fitted {\n",
       "  /* fitted */\n",
       "  background-color: var(--sklearn-color-fitted-level-0);\n",
       "}\n",
       "\n",
       "/* on hover */\n",
       "#sk-container-id-1 div.sk-estimator:hover {\n",
       "  /* unfitted */\n",
       "  background-color: var(--sklearn-color-unfitted-level-2);\n",
       "}\n",
       "\n",
       "#sk-container-id-1 div.sk-estimator.fitted:hover {\n",
       "  /* fitted */\n",
       "  background-color: var(--sklearn-color-fitted-level-2);\n",
       "}\n",
       "\n",
       "/* Specification for estimator info (e.g. \"i\" and \"?\") */\n",
       "\n",
       "/* Common style for \"i\" and \"?\" */\n",
       "\n",
       ".sk-estimator-doc-link,\n",
       "a:link.sk-estimator-doc-link,\n",
       "a:visited.sk-estimator-doc-link {\n",
       "  float: right;\n",
       "  font-size: smaller;\n",
       "  line-height: 1em;\n",
       "  font-family: monospace;\n",
       "  background-color: var(--sklearn-color-background);\n",
       "  border-radius: 1em;\n",
       "  height: 1em;\n",
       "  width: 1em;\n",
       "  text-decoration: none !important;\n",
       "  margin-left: 0.5em;\n",
       "  text-align: center;\n",
       "  /* unfitted */\n",
       "  border: var(--sklearn-color-unfitted-level-1) 1pt solid;\n",
       "  color: var(--sklearn-color-unfitted-level-1);\n",
       "}\n",
       "\n",
       ".sk-estimator-doc-link.fitted,\n",
       "a:link.sk-estimator-doc-link.fitted,\n",
       "a:visited.sk-estimator-doc-link.fitted {\n",
       "  /* fitted */\n",
       "  border: var(--sklearn-color-fitted-level-1) 1pt solid;\n",
       "  color: var(--sklearn-color-fitted-level-1);\n",
       "}\n",
       "\n",
       "/* On hover */\n",
       "div.sk-estimator:hover .sk-estimator-doc-link:hover,\n",
       ".sk-estimator-doc-link:hover,\n",
       "div.sk-label-container:hover .sk-estimator-doc-link:hover,\n",
       ".sk-estimator-doc-link:hover {\n",
       "  /* unfitted */\n",
       "  background-color: var(--sklearn-color-unfitted-level-3);\n",
       "  color: var(--sklearn-color-background);\n",
       "  text-decoration: none;\n",
       "}\n",
       "\n",
       "div.sk-estimator.fitted:hover .sk-estimator-doc-link.fitted:hover,\n",
       ".sk-estimator-doc-link.fitted:hover,\n",
       "div.sk-label-container:hover .sk-estimator-doc-link.fitted:hover,\n",
       ".sk-estimator-doc-link.fitted:hover {\n",
       "  /* fitted */\n",
       "  background-color: var(--sklearn-color-fitted-level-3);\n",
       "  color: var(--sklearn-color-background);\n",
       "  text-decoration: none;\n",
       "}\n",
       "\n",
       "/* Span, style for the box shown on hovering the info icon */\n",
       ".sk-estimator-doc-link span {\n",
       "  display: none;\n",
       "  z-index: 9999;\n",
       "  position: relative;\n",
       "  font-weight: normal;\n",
       "  right: .2ex;\n",
       "  padding: .5ex;\n",
       "  margin: .5ex;\n",
       "  width: min-content;\n",
       "  min-width: 20ex;\n",
       "  max-width: 50ex;\n",
       "  color: var(--sklearn-color-text);\n",
       "  box-shadow: 2pt 2pt 4pt #999;\n",
       "  /* unfitted */\n",
       "  background: var(--sklearn-color-unfitted-level-0);\n",
       "  border: .5pt solid var(--sklearn-color-unfitted-level-3);\n",
       "}\n",
       "\n",
       ".sk-estimator-doc-link.fitted span {\n",
       "  /* fitted */\n",
       "  background: var(--sklearn-color-fitted-level-0);\n",
       "  border: var(--sklearn-color-fitted-level-3);\n",
       "}\n",
       "\n",
       ".sk-estimator-doc-link:hover span {\n",
       "  display: block;\n",
       "}\n",
       "\n",
       "/* \"?\"-specific style due to the `<a>` HTML tag */\n",
       "\n",
       "#sk-container-id-1 a.estimator_doc_link {\n",
       "  float: right;\n",
       "  font-size: 1rem;\n",
       "  line-height: 1em;\n",
       "  font-family: monospace;\n",
       "  background-color: var(--sklearn-color-background);\n",
       "  border-radius: 1rem;\n",
       "  height: 1rem;\n",
       "  width: 1rem;\n",
       "  text-decoration: none;\n",
       "  /* unfitted */\n",
       "  color: var(--sklearn-color-unfitted-level-1);\n",
       "  border: var(--sklearn-color-unfitted-level-1) 1pt solid;\n",
       "}\n",
       "\n",
       "#sk-container-id-1 a.estimator_doc_link.fitted {\n",
       "  /* fitted */\n",
       "  border: var(--sklearn-color-fitted-level-1) 1pt solid;\n",
       "  color: var(--sklearn-color-fitted-level-1);\n",
       "}\n",
       "\n",
       "/* On hover */\n",
       "#sk-container-id-1 a.estimator_doc_link:hover {\n",
       "  /* unfitted */\n",
       "  background-color: var(--sklearn-color-unfitted-level-3);\n",
       "  color: var(--sklearn-color-background);\n",
       "  text-decoration: none;\n",
       "}\n",
       "\n",
       "#sk-container-id-1 a.estimator_doc_link.fitted:hover {\n",
       "  /* fitted */\n",
       "  background-color: var(--sklearn-color-fitted-level-3);\n",
       "}\n",
       "</style><div id=\"sk-container-id-1\" class=\"sk-top-container\"><div class=\"sk-text-repr-fallback\"><pre>Pipeline(steps=[(&#x27;tfidf&#x27;, TfidfVectorizer(max_features=1000)),\n",
       "                (&#x27;logreg&#x27;,\n",
       "                 LogisticRegression(random_state=42, solver=&#x27;liblinear&#x27;))])</pre><b>In a Jupyter environment, please rerun this cell to show the HTML representation or trust the notebook. <br />On GitHub, the HTML representation is unable to render, please try loading this page with nbviewer.org.</b></div><div class=\"sk-container\" hidden><div class=\"sk-item sk-dashed-wrapped\"><div class=\"sk-label-container\"><div class=\"sk-label fitted sk-toggleable\"><input class=\"sk-toggleable__control sk-hidden--visually\" id=\"sk-estimator-id-1\" type=\"checkbox\" ><label for=\"sk-estimator-id-1\" class=\"sk-toggleable__label fitted sk-toggleable__label-arrow\"><div><div>Pipeline</div></div><div><a class=\"sk-estimator-doc-link fitted\" rel=\"noreferrer\" target=\"_blank\" href=\"https://scikit-learn.org/1.6/modules/generated/sklearn.pipeline.Pipeline.html\">?<span>Documentation for Pipeline</span></a><span class=\"sk-estimator-doc-link fitted\">i<span>Fitted</span></span></div></label><div class=\"sk-toggleable__content fitted\"><pre>Pipeline(steps=[(&#x27;tfidf&#x27;, TfidfVectorizer(max_features=1000)),\n",
       "                (&#x27;logreg&#x27;,\n",
       "                 LogisticRegression(random_state=42, solver=&#x27;liblinear&#x27;))])</pre></div> </div></div><div class=\"sk-serial\"><div class=\"sk-item\"><div class=\"sk-estimator fitted sk-toggleable\"><input class=\"sk-toggleable__control sk-hidden--visually\" id=\"sk-estimator-id-2\" type=\"checkbox\" ><label for=\"sk-estimator-id-2\" class=\"sk-toggleable__label fitted sk-toggleable__label-arrow\"><div><div>TfidfVectorizer</div></div><div><a class=\"sk-estimator-doc-link fitted\" rel=\"noreferrer\" target=\"_blank\" href=\"https://scikit-learn.org/1.6/modules/generated/sklearn.feature_extraction.text.TfidfVectorizer.html\">?<span>Documentation for TfidfVectorizer</span></a></div></label><div class=\"sk-toggleable__content fitted\"><pre>TfidfVectorizer(max_features=1000)</pre></div> </div></div><div class=\"sk-item\"><div class=\"sk-estimator fitted sk-toggleable\"><input class=\"sk-toggleable__control sk-hidden--visually\" id=\"sk-estimator-id-3\" type=\"checkbox\" ><label for=\"sk-estimator-id-3\" class=\"sk-toggleable__label fitted sk-toggleable__label-arrow\"><div><div>LogisticRegression</div></div><div><a class=\"sk-estimator-doc-link fitted\" rel=\"noreferrer\" target=\"_blank\" href=\"https://scikit-learn.org/1.6/modules/generated/sklearn.linear_model.LogisticRegression.html\">?<span>Documentation for LogisticRegression</span></a></div></label><div class=\"sk-toggleable__content fitted\"><pre>LogisticRegression(random_state=42, solver=&#x27;liblinear&#x27;)</pre></div> </div></div></div></div></div></div>"
      ],
      "text/plain": [
       "Pipeline(steps=[('tfidf', TfidfVectorizer(max_features=1000)),\n",
       "                ('logreg',\n",
       "                 LogisticRegression(random_state=42, solver='liblinear'))])"
      ]
     },
     "execution_count": 38,
     "metadata": {},
     "output_type": "execute_result"
    }
   ],
   "source": [
    "# create pipeline for our baseline model \n",
    "baseline_pipeline = Pipeline([\n",
    "    ('tfidf', TfidfVectorizer(max_features=1000, min_df=1)),\n",
    "    ('logreg', LogisticRegression(random_state=42, solver='liblinear'))\n",
    "])\n",
    "\n",
    "# fit on the training data\n",
    "baseline_pipeline.fit(X_train_cleaned, y_train_final)\n"
   ]
  },
  {
   "cell_type": "code",
   "execution_count": 39,
   "id": "8f0bf330",
   "metadata": {},
   "outputs": [
    {
     "name": "stdout",
     "output_type": "stream",
     "text": [
      "                  precision    recall  f1-score   support\n",
      "\n",
      "Negative emotion       0.90      0.08      0.16       106\n",
      "Positive emotion       0.85      1.00      0.92       533\n",
      "\n",
      "        accuracy                           0.85       639\n",
      "       macro avg       0.87      0.54      0.54       639\n",
      "    weighted avg       0.85      0.85      0.79       639\n",
      "\n"
     ]
    }
   ],
   "source": [
    "# evaluate model on validation set\n",
    "y_val_pred = baseline_pipeline.predict(X_val_cleaned)\n",
    "\n",
    "print(classification_report(y_val, y_val_pred))"
   ]
  },
  {
   "cell_type": "markdown",
   "id": "52a1887c",
   "metadata": {},
   "source": [
    "* The model is prioritizing the majority class(Positive emotions) and as it is able to identify and recall perfectly but struggling recalling negative emotions\n",
    "* The 85% accuracy is good but we have to be aware of the class imbalance which makes the accuracy misleading"
   ]
  },
  {
   "cell_type": "code",
   "execution_count": 40,
   "id": "67096c5c",
   "metadata": {},
   "outputs": [
    {
     "name": "stdout",
     "output_type": "stream",
     "text": [
      "Fitting 3 folds for each of 36 candidates, totalling 108 fits\n"
     ]
    },
    {
     "data": {
      "text/plain": [
       "{'logreg__C': 10.0,\n",
       " 'tfidf__max_features': 1500,\n",
       " 'tfidf__min_df': 1,\n",
       " 'tfidf__ngram_range': (1, 1)}"
      ]
     },
     "execution_count": 40,
     "metadata": {},
     "output_type": "execute_result"
    }
   ],
   "source": [
    "# hyperparameter tuning\n",
    "\n",
    "tuned_pipeline = Pipeline([\n",
    "    ('tfidf', TfidfVectorizer()),\n",
    "    ('logreg', LogisticRegression(random_state=42, solver='liblinear', class_weight='balanced')) \n",
    "])\n",
    "\n",
    "param_grid = {\n",
    "    'tfidf__max_features': [500, 1000, 1500],\n",
    "    'tfidf__ngram_range': [(1, 1), (1, 2)],   \n",
    "    'tfidf__min_df': [1, 2], \n",
    "    'logreg__C': [0.1, 1.0, 10.0]              \n",
    "}\n",
    "\n",
    "# Initialize GridSearchCV\n",
    "grid_search = GridSearchCV(\n",
    "    tuned_pipeline,\n",
    "    param_grid,\n",
    "    cv=3,\n",
    "    scoring='f1_weighted',\n",
    "    verbose=1\n",
    ")\n",
    "\n",
    "grid_search.fit(X_train_cleaned, y_train_final)\n",
    "\n",
    "grid_search.best_params_"
   ]
  },
  {
   "cell_type": "code",
   "execution_count": 41,
   "id": "9542453a",
   "metadata": {},
   "outputs": [
    {
     "name": "stdout",
     "output_type": "stream",
     "text": [
      "                  precision    recall  f1-score   support\n",
      "\n",
      "Negative emotion       0.50      0.58      0.54       106\n",
      "Positive emotion       0.91      0.89      0.90       533\n",
      "\n",
      "        accuracy                           0.83       639\n",
      "       macro avg       0.71      0.73      0.72       639\n",
      "    weighted avg       0.84      0.83      0.84       639\n",
      "\n"
     ]
    }
   ],
   "source": [
    "# evaluate using optimal parameters\n",
    "optimal_pipeline = grid_search.best_estimator_\n",
    "\n",
    "y_val_pred = optimal_pipeline.predict(X_val_cleaned)\n",
    "\n",
    "print(classification_report(y_val, y_val_pred))"
   ]
  },
  {
   "cell_type": "markdown",
   "id": "d6503dc8",
   "metadata": {},
   "source": [
    "* The accuracy has slightly reduced but the model has improved in identifying the minority class(negative emotions)\n"
   ]
  },
  {
   "cell_type": "markdown",
   "id": "4dd01268",
   "metadata": {},
   "source": [
    "#### 2. MULTINOMIAL NAIVE BAYES"
   ]
  },
  {
   "cell_type": "code",
   "execution_count": 42,
   "id": "b6dbd4d7",
   "metadata": {},
   "outputs": [
    {
     "name": "stdout",
     "output_type": "stream",
     "text": [
      "Fitting 3 folds for each of 96 candidates, totalling 288 fits\n"
     ]
    },
    {
     "data": {
      "text/plain": [
       "{'mnb__alpha': 0.1,\n",
       " 'vectorizer': CountVectorizer(),\n",
       " 'vectorizer__max_features': 1500,\n",
       " 'vectorizer__min_df': 1,\n",
       " 'vectorizer__ngram_range': (1, 1)}"
      ]
     },
     "execution_count": 42,
     "metadata": {},
     "output_type": "execute_result"
    }
   ],
   "source": [
    "#\n",
    "mnb_pipeline = Pipeline([\n",
    "    ('vectorizer', TfidfVectorizer()),\n",
    "    ('mnb', MultinomialNB())\n",
    "])\n",
    "\n",
    "param_grid = [\n",
    "    {\n",
    "        'vectorizer': [CountVectorizer()],\n",
    "        'vectorizer__max_features': [500, 1000, 1500],\n",
    "        'vectorizer__ngram_range': [(1, 1), (1, 2)],\n",
    "        'vectorizer__min_df': [1, 2],\n",
    "        'mnb__alpha': [0.1, 0.5, 1.0, 2.0]\n",
    "    },\n",
    "    {\n",
    "        'vectorizer': [TfidfVectorizer()], \n",
    "        'vectorizer__max_features': [500, 1000, 1500],\n",
    "        'vectorizer__ngram_range': [(1, 1), (1, 2)],\n",
    "        'vectorizer__min_df': [1, 2],\n",
    "        'mnb__alpha': [0.1, 0.5, 1.0, 2.0]\n",
    "    }\n",
    "]\n",
    "\n",
    "# Use f1_weighted for scoring, as it's suitable for imbalanced binary datasets as well.\n",
    "grid_search = GridSearchCV(\n",
    "    mnb_pipeline,\n",
    "    param_grid,\n",
    "    cv=3,\n",
    "    scoring='f1_weighted',\n",
    "    verbose=1\n",
    ")\n",
    "# fit on training data\n",
    "grid_search.fit(X_train_cleaned, y_train_final)\n",
    "\n",
    "# optimal parameters\n",
    "grid_search.best_params_\n"
   ]
  },
  {
   "cell_type": "code",
   "execution_count": 43,
   "id": "4fd13771",
   "metadata": {},
   "outputs": [
    {
     "name": "stdout",
     "output_type": "stream",
     "text": [
      "                  precision    recall  f1-score   support\n",
      "\n",
      "Negative emotion       0.60      0.50      0.54       106\n",
      "Positive emotion       0.90      0.93      0.92       533\n",
      "\n",
      "        accuracy                           0.86       639\n",
      "       macro avg       0.75      0.72      0.73       639\n",
      "    weighted avg       0.85      0.86      0.86       639\n",
      "\n"
     ]
    }
   ],
   "source": [
    "# evaluate on validation set\n",
    "optimal_pipeline = grid_search.best_estimator_\n",
    "y_val_pred = optimal_pipeline.predict(X_val_cleaned)\n",
    "\n",
    "print(classification_report(y_val, y_val_pred))"
   ]
  },
  {
   "cell_type": "markdown",
   "id": "aedb08ff",
   "metadata": {},
   "source": [
    "* While the models accuracy increased, the trade-off between precision and recall for the naegative emotions remains a challenge"
   ]
  },
  {
   "cell_type": "code",
   "execution_count": 44,
   "id": "9215e727",
   "metadata": {},
   "outputs": [
    {
     "name": "stdout",
     "output_type": "stream",
     "text": [
      "Fitting 3 folds for each of 336 candidates, totalling 1008 fits\n"
     ]
    },
    {
     "data": {
      "text/plain": [
       "{'mnb__alpha': 0.1,\n",
       " 'smote__k_neighbors': 3,\n",
       " 'vectorizer': CountVectorizer(),\n",
       " 'vectorizer__max_features': 1500,\n",
       " 'vectorizer__min_df': 2,\n",
       " 'vectorizer__ngram_range': (1, 1)}"
      ]
     },
     "execution_count": 44,
     "metadata": {},
     "output_type": "execute_result"
    }
   ],
   "source": [
    "# try and handle class imbalance\n",
    "smote_pipeline = ImbPipeline([\n",
    "    ('vectorizer', CountVectorizer()),\n",
    "    ('smote', SMOTE(random_state=42)), \n",
    "    ('mnb', MultinomialNB())\n",
    "])\n",
    "\n",
    "param_grid = [\n",
    "    {\n",
    "        'vectorizer': [CountVectorizer()],\n",
    "        'vectorizer__max_features': [500, 1000, 1500],\n",
    "        'vectorizer__ngram_range': [(1, 1), (1, 2)],\n",
    "        'vectorizer__min_df': [1, 2],\n",
    "        'smote__k_neighbors': [3, 4, 5], \n",
    "        'mnb__alpha': [0.1, 0.5, 1.0, 2.0]\n",
    "    },\n",
    "    {\n",
    "        'vectorizer': [TfidfVectorizer()],\n",
    "        'vectorizer__max_features': [500, 1000, 1500],\n",
    "        'vectorizer__ngram_range': [(1, 1), (1, 2)],\n",
    "        'vectorizer__min_df': [1, 2],\n",
    "        'smote__k_neighbors': [2, 3, 4, 5], \n",
    "        'mnb__alpha': [0.1, 0.5, 1.0, 2.0]\n",
    "    }\n",
    "]\n",
    "\n",
    "\n",
    "grid_search = GridSearchCV(\n",
    "    smote_pipeline,\n",
    "    param_grid,\n",
    "    cv=3,\n",
    "    scoring='f1_weighted',\n",
    "    verbose=1\n",
    ")\n",
    "\n",
    "# fit on training data\n",
    "grid_search.fit(X_train_cleaned, y_train_final)\n",
    "\n",
    "# optimal parameters\n",
    "grid_search.best_params_"
   ]
  },
  {
   "cell_type": "code",
   "execution_count": 45,
   "id": "7ba7efb0",
   "metadata": {},
   "outputs": [
    {
     "name": "stdout",
     "output_type": "stream",
     "text": [
      "                  precision    recall  f1-score   support\n",
      "\n",
      "Negative emotion       0.51      0.56      0.53       106\n",
      "Positive emotion       0.91      0.89      0.90       533\n",
      "\n",
      "        accuracy                           0.84       639\n",
      "       macro avg       0.71      0.72      0.72       639\n",
      "    weighted avg       0.84      0.84      0.84       639\n",
      "\n"
     ]
    }
   ],
   "source": [
    "# evaluate on validation set\n",
    "optimal_pipeline = grid_search.best_estimator_\n",
    "y_val_pred = optimal_pipeline.predict(X_val_cleaned)\n",
    "\n",
    "print(classification_report(y_val, y_val_pred))"
   ]
  },
  {
   "cell_type": "markdown",
   "id": "4f1a1137",
   "metadata": {},
   "source": [
    "* Slight drop in the in accuracy is expected as we prioritized the minority class \n",
    "* The precision and recall balance for the negative has improved compared to previous models even though there is a slight decrease in precision"
   ]
  },
  {
   "cell_type": "markdown",
   "id": "4c2a7c1b",
   "metadata": {},
   "source": [
    "### **MULTICLASS CLASSIFICATION**\n",
    "### 1. SUPPORT VECTOR CLASSIFIER\n",
    "\n",
    "* We will manually train and evaluate each vectorizer seperately"
   ]
  },
  {
   "cell_type": "code",
   "execution_count": 46,
   "id": "c4d8ca05",
   "metadata": {},
   "outputs": [
    {
     "name": "stdout",
     "output_type": "stream",
     "text": [
      "                  precision    recall  f1-score   support\n",
      "\n",
      "Negative emotion       0.16      0.43      0.24        99\n",
      " Neutral emotion       0.76      0.61      0.68       999\n",
      "Positive emotion       0.53      0.56      0.55       533\n",
      "\n",
      "        accuracy                           0.58      1631\n",
      "       macro avg       0.48      0.54      0.49      1631\n",
      "    weighted avg       0.65      0.58      0.61      1631\n",
      "\n"
     ]
    }
   ],
   "source": [
    "# fixed parameters \n",
    "svc_params = {'random_state': 42, 'class_weight': 'balanced', 'C': 1.0, 'kernel': 'linear'}\n",
    "\n",
    "# Pipeline for TfidfVectorizer\n",
    "svc_pipeline = Pipeline([\n",
    "    ('vectorizer', TfidfVectorizer(max_features=1000, ngram_range=(1, 2), min_df=2)), \n",
    "    ('svc', SVC(**svc_params))\n",
    "])\n",
    "\n",
    "# Train using the multiclass dataset\n",
    "svc_pipeline.fit(X_train_clean, y_train_multi)\n",
    "\n",
    "y_val_pred= svc_pipeline.predict(X_val_clean)\n",
    "print(classification_report(y_val_multi, y_val_pred))"
   ]
  },
  {
   "cell_type": "markdown",
   "id": "8db8a1d3",
   "metadata": {},
   "source": [
    "* The model is struggling across the board with an overall accuracy of 58%\n",
    "* The precision and recall of both positive and negative emotions are quite weak"
   ]
  },
  {
   "cell_type": "code",
   "execution_count": 47,
   "id": "aa571e53",
   "metadata": {},
   "outputs": [
    {
     "name": "stdout",
     "output_type": "stream",
     "text": [
      "                  precision    recall  f1-score   support\n",
      "\n",
      "Negative emotion       0.17      0.39      0.24        99\n",
      " Neutral emotion       0.75      0.63      0.68       999\n",
      "Positive emotion       0.52      0.55      0.53       533\n",
      "\n",
      "        accuracy                           0.59      1631\n",
      "       macro avg       0.48      0.52      0.49      1631\n",
      "    weighted avg       0.64      0.59      0.61      1631\n",
      "\n"
     ]
    }
   ],
   "source": [
    "# parameters for SVC \n",
    "svc_params = {'random_state': 42, 'C': 1.0, 'kernel': 'linear'}\n",
    "\n",
    "# intergrate random oversampling\n",
    "ros_pipeline = ImbPipeline([\n",
    "    ('vectorizer', TfidfVectorizer(max_features=1000, ngram_range=(1, 2), min_df=2)), \n",
    "    ('random_oversampler', RandomOverSampler(random_state=42)), \n",
    "    ('svc', SVC(**svc_params))\n",
    "])\n",
    "\n",
    "# Train the pipeline\n",
    "ros_pipeline.fit(X_train_clean, y_train_multi)\n",
    "\n",
    "y_val_pred= ros_pipeline.predict(X_val_clean)\n",
    "print(classification_report(y_val_multi, y_val_pred))"
   ]
  },
  {
   "cell_type": "markdown",
   "id": "0e882c6d",
   "metadata": {},
   "source": [
    "* The model still struggles to classify tweets across all categories"
   ]
  },
  {
   "cell_type": "code",
   "execution_count": 48,
   "id": "16549deb",
   "metadata": {},
   "outputs": [
    {
     "name": "stdout",
     "output_type": "stream",
     "text": [
      "                  precision    recall  f1-score   support\n",
      "\n",
      "Negative emotion       0.23      0.12      0.16        99\n",
      " Neutral emotion       0.73      0.62      0.67       999\n",
      "Positive emotion       0.44      0.59      0.50       533\n",
      "\n",
      "        accuracy                           0.58      1631\n",
      "       macro avg       0.46      0.44      0.44      1631\n",
      "    weighted avg       0.60      0.58      0.58      1631\n",
      "\n"
     ]
    }
   ],
   "source": [
    "# knn parameters\n",
    "knn_params = {'n_neighbors': 3, 'weights': 'distance'} \n",
    "\n",
    "\n",
    "# Pipeline for TfidfVectorizer and KNeighborsClassifier\n",
    "knn_pipeline = ImbPipeline([\n",
    "    ('vectorizer', TfidfVectorizer(max_features=1000, ngram_range=(1, 2), min_df=2)),\n",
    "    ('knn', KNeighborsClassifier(**knn_params))\n",
    "])\n",
    "\n",
    "# Train the pipeline\n",
    "knn_pipeline.fit(X_train_clean, y_train_multi)\n",
    "\n",
    "y_val_pred= knn_pipeline.predict(X_val_clean)\n",
    "print(classification_report(y_val_multi, y_val_pred))"
   ]
  },
  {
   "cell_type": "code",
   "execution_count": 49,
   "id": "56202fc1",
   "metadata": {},
   "outputs": [
    {
     "name": "stdout",
     "output_type": "stream",
     "text": [
      "                  precision    recall  f1-score   support\n",
      "\n",
      "Negative emotion       0.18      0.19      0.19        99\n",
      " Neutral emotion       0.66      0.76      0.71       999\n",
      "Positive emotion       0.48      0.34      0.40       533\n",
      "\n",
      "        accuracy                           0.59      1631\n",
      "       macro avg       0.44      0.43      0.43      1631\n",
      "    weighted avg       0.57      0.59      0.58      1631\n",
      "\n"
     ]
    }
   ],
   "source": [
    "knn_params = {'n_neighbors': 2, 'weights': 'uniform'} \n",
    "\n",
    "\n",
    "# Pipeline for TfidfVectorizer and KNeighborsClassifier\n",
    "knn_ros_pipeline = ImbPipeline([\n",
    "    ('vectorizer', TfidfVectorizer(max_features=1000, ngram_range=(1, 2), min_df=2)),\n",
    "     ('random_oversampler', RandomOverSampler(random_state=42)), \n",
    "    ('knn', KNeighborsClassifier(**knn_params))\n",
    "])\n",
    "\n",
    "# Train the pipeline\n",
    "knn_ros_pipeline.fit(X_train_clean, y_train_multi)\n",
    "\n",
    "y_val_pred= knn_ros_pipeline.predict(X_val_clean)\n",
    "print(classification_report(y_val_multi, y_val_pred))"
   ]
  },
  {
   "cell_type": "markdown",
   "id": "b0217327",
   "metadata": {},
   "source": [
    "* The model is struggling to define clear boundaries between the sentiment categories even after parameter adjustments\n"
   ]
  },
  {
   "cell_type": "markdown",
   "id": "ba5ada92",
   "metadata": {},
   "source": [
    "### MULTI-LAYER PERCEPTRON CLASSIFIER\n",
    "* Since our multi_class models are all struggling, We will model a basic neural network to try and capture our datasets complexities"
   ]
  },
  {
   "cell_type": "code",
   "execution_count": 50,
   "id": "f9a2b009",
   "metadata": {},
   "outputs": [],
   "source": [
    "vectorizer = TfidfVectorizer(max_features=1000, ngram_range=(1, 2), min_df=2)\n",
    "scaler = StandardScaler(with_mean=False) \n",
    "\n",
    "\n",
    "# Transform training data\n",
    "X_train_vectorized = vectorizer.fit_transform(X_train_clean)\n",
    "X_train_scaled = scaler.fit_transform(X_train_vectorized)\n",
    "X_train_dense = X_train_scaled.toarray().astype(np.float32) \n",
    "\n",
    "# Transform validation data\n",
    "X_val_vectorized = vectorizer.transform(X_val_clean)\n",
    "X_val_scaled = scaler.transform(X_val_vectorized)\n",
    "X_val_dense = X_val_scaled.toarray().astype(np.float32) \n",
    "\n",
    "# Transform test data\n",
    "X_test_vectorized = vectorizer.transform(X_test_clean)\n",
    "X_test_scaled = scaler.transform(X_test_vectorized)\n",
    "X_test_dense = X_test_scaled.toarray().astype(np.float32) "
   ]
  },
  {
   "cell_type": "code",
   "execution_count": 51,
   "id": "e27df1e3",
   "metadata": {},
   "outputs": [],
   "source": [
    "# label encode the multiclass y\n",
    "le = LabelEncoder()\n",
    "y_multi_encoded = le.fit_transform(y_multi) \n",
    "X_train_multi, X_test_multi, y_train_multi_encoded, y_test_multi_encoded = train_test_split(X_multi, y_multi_encoded, test_size=0.25, random_state=42, stratify=y_multi_encoded)\n",
    "X_train_multi, X_val_multi, y_train_multi_encoded, y_val_multi_encoded = train_test_split(X_train_multi, y_train_multi_encoded, test_size=0.25, random_state=42, stratify=y_train_multi_encoded)\n"
   ]
  },
  {
   "cell_type": "code",
   "execution_count": 52,
   "id": "ad2a3e04",
   "metadata": {},
   "outputs": [
    {
     "ename": "NameError",
     "evalue": "name 'label_encoder' is not defined",
     "output_type": "error",
     "traceback": [
      "\u001b[1;31m---------------------------------------------------------------------------\u001b[0m",
      "\u001b[1;31mNameError\u001b[0m                                 Traceback (most recent call last)",
      "Cell \u001b[1;32mIn[52], line 21\u001b[0m\n\u001b[0;32m     17\u001b[0m y_val_pred_mlp_encoded \u001b[38;5;241m=\u001b[39m mlp_model\u001b[38;5;241m.\u001b[39mpredict(X_val_dense)\n\u001b[0;32m     20\u001b[0m \u001b[38;5;66;03m# Decode predictions back to original labels for classification report\u001b[39;00m\n\u001b[1;32m---> 21\u001b[0m y_val_pred_mlp \u001b[38;5;241m=\u001b[39m label_encoder\u001b[38;5;241m.\u001b[39minverse_transform(y_val_pred_mlp_encoded)\n\u001b[0;32m     23\u001b[0m \u001b[38;5;66;03m# Use the original (decoded) validation labels for the report\u001b[39;00m\n\u001b[0;32m     24\u001b[0m \u001b[38;5;28mprint\u001b[39m(classification_report(y_val_multi, y_val_pred_mlp))\n",
      "\u001b[1;31mNameError\u001b[0m: name 'label_encoder' is not defined"
     ]
    }
   ],
   "source": [
    "mlp_params = {\n",
    "    'hidden_layer_sizes': (100,), \n",
    "    'activation': 'relu',        \n",
    "    'solver': 'adam',            \n",
    "    'max_iter': 500,             \n",
    "    'random_state': 42,\n",
    "    'early_stopping': True,      \n",
    "    'validation_fraction': 0.1   \n",
    "}\n",
    "\n",
    "# Initialize MLPClassifier\n",
    "mlp_model = MLPClassifier(**mlp_params)\n",
    "\n",
    "mlp_model.fit(X_train_dense, y_train_multi_encoded)\n",
    "\n",
    "# Predict using the dense, scaled validation data\n",
    "y_val_pred_mlp_encoded = mlp_model.predict(X_val_dense)\n",
    "\n",
    "\n",
    "# Decode predictions back to original labels for classification report\n",
    "y_val_pred_mlp = label_encoder.inverse_transform(y_val_pred_mlp_encoded)\n",
    "\n",
    "# Use the original (decoded) validation labels for the report\n",
    "print(classification_report(y_val_multi, y_val_pred_mlp))"
   ]
  },
  {
   "cell_type": "markdown",
   "id": "01eaf2a1",
   "metadata": {},
   "source": [
    "* The overall proportion of correctly predicted tweets is 54%. \n",
    "* This is the lowest accuracy observed so far across all models you've tested, indicating the MLP with current settings is struggling significantly."
   ]
  },
  {
   "cell_type": "code",
   "execution_count": null,
   "id": "c7f7841e",
   "metadata": {},
   "outputs": [
    {
     "name": "stdout",
     "output_type": "stream",
     "text": [
      "Fitting 3 folds for each of 12 candidates, totalling 36 fits\n"
     ]
    },
    {
     "data": {
      "text/plain": [
       "{'alpha': 0.01, 'hidden_layer_sizes': (40, 30)}"
      ]
     },
     "execution_count": 94,
     "metadata": {},
     "output_type": "execute_result"
    }
   ],
   "source": [
    "base_mlp_params = {\n",
    "    'activation': 'relu',        \n",
    "    'solver': 'adam',            \n",
    "    'max_iter': 500,             \n",
    "    'random_state': 42,\n",
    "    'early_stopping': True,      \n",
    "    'validation_fraction': 0.1   \n",
    "}\n",
    "\n",
    "# hyperparameter tuning with gridsearchcv\n",
    "param_grid = {\n",
    "    'hidden_layer_sizes': [(50,), (100,), (50, 50), (40, 30)], \n",
    "    'alpha': [0.0001, 0.001, 0.01],                  \n",
    "}\n",
    "\n",
    "# Instantiate MLPClassifier\n",
    "mlp_base = MLPClassifier(**base_mlp_params)\n",
    "\n",
    "# Initialize GridSearchCV.\n",
    "grid_search_mlp = GridSearchCV(\n",
    "    mlp_base,\n",
    "    param_grid,\n",
    "    cv=3,                     \n",
    "    scoring='f1_weighted',\n",
    "    verbose=1\n",
    ")\n",
    "\n",
    "# Fit GridSearchCV on the dense, scaled training data\n",
    "grid_search_mlp.fit(X_train_dense, y_train_multi_encoded)\n",
    "\n",
    "\n",
    "grid_search_mlp.best_params_"
   ]
  },
  {
   "cell_type": "code",
   "execution_count": null,
   "id": "5faf50be",
   "metadata": {},
   "outputs": [
    {
     "name": "stdout",
     "output_type": "stream",
     "text": [
      "                  precision    recall  f1-score   support\n",
      "\n",
      "Negative emotion       1.00      0.01      0.02        99\n",
      " Neutral emotion       0.61      0.86      0.71       999\n",
      "Positive emotion       0.30      0.12      0.17       533\n",
      "\n",
      "        accuracy                           0.57      1631\n",
      "       macro avg       0.64      0.33      0.30      1631\n",
      "    weighted avg       0.53      0.57      0.49      1631\n",
      "\n"
     ]
    }
   ],
   "source": [
    "best_mlp_model = grid_search_mlp.best_estimator_\n",
    "\n",
    "# Predict using the dense, scaled validation data with the best model\n",
    "y_val_pred_mlp_encoded = best_mlp_model.predict(X_val_dense)\n",
    "\n",
    "# Decode predictions back to original labels for classification report\n",
    "y_val_pred_mlp = le.inverse_transform(y_val_pred_mlp_encoded)\n",
    "\n",
    "print(classification_report(y_val_multi, y_val_pred_mlp))"
   ]
  }
 ],
 "metadata": {
  "kernelspec": {
   "display_name": "wangari_env",
   "language": "python",
   "name": "python3"
  },
  "language_info": {
   "codemirror_mode": {
    "name": "ipython",
    "version": 3
   },
   "file_extension": ".py",
   "mimetype": "text/x-python",
   "name": "python",
   "nbconvert_exporter": "python",
   "pygments_lexer": "ipython3",
   "version": "3.12.7"
  }
 },
 "nbformat": 4,
 "nbformat_minor": 5
}
